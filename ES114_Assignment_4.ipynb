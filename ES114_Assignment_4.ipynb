{
  "nbformat": 4,
  "nbformat_minor": 0,
  "metadata": {
    "colab": {
      "provenance": [],
      "collapsed_sections": [
        "HI9SUOJ-hPo-",
        "sE06paNinoXD",
        "f48slZh9YwKt"
      ],
      "authorship_tag": "ABX9TyMV+QI3d1hQTbSwZ50Bgkh0",
      "include_colab_link": true
    },
    "kernelspec": {
      "name": "python3",
      "display_name": "Python 3"
    },
    "language_info": {
      "name": "python"
    }
  },
  "cells": [
    {
      "cell_type": "markdown",
      "metadata": {
        "id": "view-in-github",
        "colab_type": "text"
      },
      "source": [
        "<a href=\"https://colab.research.google.com/github/HrishiHarsora/ES114-Probability-Statistics-Data-Visualization-/blob/main/ES114_Assignment_4.ipynb\" target=\"_parent\"><img src=\"https://colab.research.google.com/assets/colab-badge.svg\" alt=\"Open In Colab\"/></a>"
      ]
    },
    {
      "cell_type": "markdown",
      "source": [
        "## **Lab Assignment 4 - PDFs and CDFs of Continuos Random Variables**"
      ],
      "metadata": {
        "id": "ACSZOIXTBA-X"
      }
    },
    {
      "cell_type": "code",
      "execution_count": null,
      "metadata": {
        "id": "PCmTdbs7YW6x"
      },
      "outputs": [],
      "source": [
        "import numpy as np\n",
        "import matplotlib.pyplot as plt\n",
        "import math as mt"
      ]
    },
    {
      "cell_type": "markdown",
      "source": [
        "## **PDFs of Continuos Random Variables**"
      ],
      "metadata": {
        "id": "HI9SUOJ-hPo-"
      }
    },
    {
      "cell_type": "code",
      "source": [
        "#Uniform Continuos\n",
        "\n",
        "a=int(input('Value of a:'))\n",
        "b=int(input('Value of b:'))\n",
        "X= np.linspace(a,b,1000)\n",
        "\n",
        "Y = []\n",
        "for i in X:\n",
        "  Y.append(1/(b-a))\n",
        "\n",
        "plt.plot(X,Y)\n",
        "plt.ylabel('CDF')\n",
        "plt.xlabel('Random Variable Value')\n",
        "plt.show()"
      ],
      "metadata": {
        "id": "01Ks7jUVhS1U"
      },
      "execution_count": null,
      "outputs": []
    },
    {
      "cell_type": "code",
      "source": [
        "#Gaussian\n",
        "\n",
        "mean = 0; std = 1; variance = np.square(std)\n",
        "x = np.arange(-20,20,0.01)\n",
        "y = np.exp(-np.square(x-mean)/2*variance)/(np.sqrt(2*np.pi*variance))\n",
        "\n",
        "plt.plot(x,y)\n",
        "plt.fill_between(x,y,alpha = 0.3,color='g')\n",
        "plt.ylabel('CDF')\n",
        "plt.xlabel('Random Variable Value')"
      ],
      "metadata": {
        "id": "Kxzr1eIgiF-v"
      },
      "execution_count": null,
      "outputs": []
    },
    {
      "cell_type": "code",
      "source": [
        "#Exponential\n",
        "l = float(input(\"average number of events per unit time: \"))\n",
        "\n",
        "X = np.linspace(0,6,100)\n",
        "\n",
        "Y = []\n",
        "for i in X:\n",
        "  outcome = l*(mt.e**(-l*i))\n",
        "  Y.append(outcome)\n",
        "\n",
        "plt.plot(X,Y)\n",
        "plt.ylabel('CDF')\n",
        "plt.xlabel('Random Variable Value')"
      ],
      "metadata": {
        "id": "FYJgtkNdiiuG"
      },
      "execution_count": null,
      "outputs": []
    },
    {
      "cell_type": "code",
      "source": [
        "#Exponential with varied parameter\n",
        "\n",
        "l1=0.5\n",
        "l2=1.0\n",
        "l3=1.5\n",
        "\n",
        "X = np.linspace(0,6,100)\n",
        "\n",
        "Y1,Y2,Y3 = [],[],[]\n",
        "\n",
        "for i in X:\n",
        "  outcome = l1*(mt.e**(-l1*i))\n",
        "  Y1.append(outcome)\n",
        "\n",
        "for i in X:\n",
        "  outcome = l2*(mt.e**(-l2*i))\n",
        "  Y2.append(outcome)\n",
        "\n",
        "for i in X:\n",
        "  outcome = l3*(mt.e**(-l3*i))\n",
        "  Y3.append(outcome)\n",
        "\n",
        "plt.plot(X,Y1,label='l=0.5')\n",
        "plt.plot(X,Y2,label='1.0')\n",
        "plt.plot(X,Y3,label='l=1.5')\n",
        "plt.legend()\n",
        "plt.ylabel('CDF')\n",
        "plt.xlabel('Random Variable Value')\n",
        "plt.show()\n"
      ],
      "metadata": {
        "id": "xvT_SaKgJJ6Y"
      },
      "execution_count": null,
      "outputs": []
    },
    {
      "cell_type": "code",
      "source": [
        "#Cauchy\n",
        "x0=int(input('Enter value of X0:'))\n",
        "gamma=float(input('Enter value of gamma:'))\n",
        "\n",
        "X = np.linspace(-21,21,1000)\n",
        "\n",
        "Y = []\n",
        "for i in X:\n",
        "  c=((i-x0)/gamma)**2\n",
        "  z=mt.pi*gamma*(1+c)\n",
        "  Y.append(1/z)\n",
        "\n",
        "plt.plot(X,Y)\n",
        "plt.ylabel('CDF')\n",
        "plt.xlabel('Random Variable Value')\n",
        "plt.show()"
      ],
      "metadata": {
        "id": "qCQ8GZFBlNfw"
      },
      "execution_count": null,
      "outputs": []
    },
    {
      "cell_type": "code",
      "source": [
        "#Cauchy with varied x0\n",
        "x1 = 0\n",
        "x2 = 1\n",
        "x3 = 2\n",
        "gamma = 1\n",
        "\n",
        "X = np.linspace(-21,21,1000)\n",
        "\n",
        "Y1,Y2,Y3 = [],[],[]\n",
        "\n",
        "for i in X:\n",
        "  c=((i-x1)/gamma)**2\n",
        "  z=mt.pi*gamma*(1+c)\n",
        "  Y1.append(1/z)\n",
        "for i in X:\n",
        "  c=((i-x2)/gamma)**2\n",
        "  z=mt.pi*gamma*(1+c)\n",
        "  Y2.append(1/z)\n",
        "\n",
        "for i in X:\n",
        "  c=((i-x3)/gamma)**2\n",
        "  z=mt.pi*gamma*(1+c)\n",
        "  Y3.append(1/z)\n",
        "\n",
        "plt.plot(X,Y1,label='x0=0')\n",
        "plt.plot(X,Y2,label='x0=1')\n",
        "plt.plot(X,Y3,label='x0=2')\n",
        "plt.legend()\n",
        "plt.ylabel('CDF')\n",
        "plt.xlabel('Random Variable Value')\n",
        "plt.show()"
      ],
      "metadata": {
        "id": "ETJ4yPk6LWe0"
      },
      "execution_count": null,
      "outputs": []
    },
    {
      "cell_type": "code",
      "source": [
        "#Cauchy with varied gamma\n",
        "\n",
        "x0=0\n",
        "gamma1=0.5\n",
        "gamma2=1.0\n",
        "gamma3=2.0\n",
        "\n",
        "X = np.linspace(-21,21,1000)\n",
        "\n",
        "Y1,Y2,Y3 = [],[],[]\n",
        "\n",
        "for i in X:\n",
        "  c=((i-x0)/gamma1)**2\n",
        "  z=mt.pi*gamma1*(1+c)\n",
        "  Y1.append(1/z)\n",
        "\n",
        "for i in X:\n",
        "  c=((i-x0)/gamma2)**2\n",
        "  z=mt.pi*gamma2*(1+c)\n",
        "  Y2.append(1/z)\n",
        "\n",
        "for i in X:\n",
        "  c=((i-x)/gamma3)**2\n",
        "  z=mt.pi*gamma3*(1+c)\n",
        "  Y3.append(1/z)\n",
        "\n",
        "plt.plot(X,Y1,label='x0=0')\n",
        "plt.plot(X,Y2,label='x0=1')\n",
        "plt.plot(X,Y3,label='x0=2')\n",
        "plt.legend()\n",
        "plt.ylabel('CDF')\n",
        "plt.xlabel('Random Variable Value')\n",
        "plt.show()"
      ],
      "metadata": {
        "id": "u0zX7aFiMGf-"
      },
      "execution_count": null,
      "outputs": []
    },
    {
      "cell_type": "code",
      "source": [
        "#Laplacian\n",
        "mu=int(input('Enter value of mu:'))\n",
        "b=int(input('Enter value of b:'))\n",
        "\n",
        "X = np.linspace(-15,15,1000)\n",
        "\n",
        "Y = []\n",
        "for i in X:\n",
        "  z=(1/(2*b))*(mt.exp(-abs(i-mu))/b)\n",
        "  Y.append(z)\n",
        "\n",
        "plt.plot(X,Y)\n",
        "plt.ylabel('CDF')\n",
        "plt.xlabel('Random Variable Value')\n",
        "plt.show()"
      ],
      "metadata": {
        "id": "yHulD8phmsLr"
      },
      "execution_count": null,
      "outputs": []
    },
    {
      "cell_type": "code",
      "source": [
        "#Laplacian with varied mu\n",
        "b=1\n",
        "mu1=0\n",
        "mu2=2\n",
        "mu3=5\n",
        "\n",
        "X = np.linspace(-15,15,1000)\n",
        "\n",
        "Y1,Y2,Y3 = [],[],[]\n",
        "for i in X:\n",
        "  z=(1/(2*b))*(mt.exp(-abs(i-mu1))/b)\n",
        "  Y1.append(z)\n",
        "\n",
        "for i in X:\n",
        "  z=(1/(2*b))*(mt.exp(-abs(i-mu2))/b)\n",
        "  Y2.append(z)\n",
        "\n",
        "for i in X:\n",
        "  z=(1/(2*b))*(mt.exp(-abs(i-mu3))/b)\n",
        "  Y3.append(z)\n",
        "\n",
        "plt.plot(X,Y1,label='mu1=0')\n",
        "plt.plot(X,Y2,label='mu2=2')\n",
        "plt.plot(X,Y3,label='mu3=5')\n",
        "plt.legend()\n",
        "plt.ylabel('CDF')\n",
        "plt.xlabel('Random Variable Value')\n",
        "plt.show()"
      ],
      "metadata": {
        "id": "2a8ZWEtoOaT4"
      },
      "execution_count": null,
      "outputs": []
    },
    {
      "cell_type": "code",
      "source": [
        "#Laplacian with varied b\n",
        "b1=1\n",
        "b2=2\n",
        "b3=4\n",
        "mu=0\n",
        "\n",
        "X = np.linspace(-15,15,1000)\n",
        "\n",
        "Y1,Y2,Y3 = [],[],[]\n",
        "for i in X:\n",
        "  z=(1/(2*b1))*(mt.exp(-abs(i-mu))/b1)\n",
        "  Y1.append(z)\n",
        "\n",
        "for i in X:\n",
        "  z=(1/(2*b2))*(mt.exp(-abs(i-mu))/b2)\n",
        "  Y2.append(z)\n",
        "\n",
        "for i in X:\n",
        "  z=(1/(2*b3))*(mt.exp(-abs(i-mu))/b3)\n",
        "  Y3.append(z)\n",
        "\n",
        "plt.plot(X,Y1,label='b1=1')\n",
        "plt.plot(X,Y2,label='b2=2')\n",
        "plt.plot(X,Y3,label='b3=4')\n",
        "plt.legend()\n",
        "plt.ylabel('CDF')\n",
        "plt.xlabel('Random Variable Value')\n",
        "plt.show()"
      ],
      "metadata": {
        "id": "gjXiQiGKPBmy"
      },
      "execution_count": null,
      "outputs": []
    },
    {
      "cell_type": "code",
      "source": [
        "#Rayleigh\n",
        "\n",
        "sigma=float(input('Enter value of sigma:'))\n",
        "s2=sigma*sigma\n",
        "\n",
        "X = np.linspace(0,11,1000)\n",
        "\n",
        "Y =[]\n",
        "for i in X:\n",
        "  z=(i/s2)*mt.exp(-(i**2)/(2*s2))\n",
        "  Y.append(z)\n",
        "\n",
        "plt.plot(X,Y)\n",
        "plt.ylabel('CDF')\n",
        "plt.xlabel('Random Variable Value')\n",
        "plt.show()"
      ],
      "metadata": {
        "id": "iKMVcDcQnI3K"
      },
      "execution_count": null,
      "outputs": []
    },
    {
      "cell_type": "code",
      "source": [
        "#Rayleigh with varied parameter\n",
        "\n",
        "sigma1=0.5\n",
        "sigma2=1\n",
        "sigma3=2\n",
        "\n",
        "s12=sigma1*sigma1\n",
        "s22=sigma2*sigma2\n",
        "s32=sigma3*sigma3\n",
        "\n",
        "X = np.linspace(0,11,1000)\n",
        "\n",
        "Y1,Y2,Y3 =[],[],[]\n",
        "\n",
        "for i in X:\n",
        "  z=(i/s12)*mt.exp(-(i**2)/(2*s12))\n",
        "  Y1.append(z)\n",
        "\n",
        "for i in X:\n",
        "  z=(i/s22)*mt.exp(-(i**2)/(2*s22))\n",
        "  Y2.append(z)\n",
        "\n",
        "for i in X:\n",
        "  z=(i/s32)*mt.exp(-(i**2)/(2*s32))\n",
        "  Y3.append(z)\n",
        "\n",
        "plt.plot(X,Y1,label='Sigma1=0.5')\n",
        "plt.plot(X,Y2,label='Sigma2=1')\n",
        "plt.plot(X,Y3,label='Sigma3=2')\n",
        "plt.legend()\n",
        "plt.ylabel('CDF')\n",
        "plt.xlabel('Random Variable Value')\n",
        "plt.show()"
      ],
      "metadata": {
        "id": "a5PUwfeSPjQh"
      },
      "execution_count": null,
      "outputs": []
    },
    {
      "cell_type": "markdown",
      "source": [
        "## **CDFs of Continuos Random Variables**"
      ],
      "metadata": {
        "id": "sE06paNinoXD"
      }
    },
    {
      "cell_type": "code",
      "source": [
        "#Uniform Continuos\n",
        "\n",
        "#Uniform Continuos\n",
        "\n",
        "a=int(input('Value of a:'))\n",
        "b=int(input('Value of b:'))\n",
        "X= np.linspace(a,b,1000)\n",
        "\n",
        "Y = []\n",
        "for i in X:\n",
        "  Y.append((i-a)/(b-a))\n",
        "\n",
        "plt.plot(X,Y)\n",
        "plt.ylabel('CDF')\n",
        "plt.xlabel('Random Variable Value')\n",
        "plt.show()"
      ],
      "metadata": {
        "id": "UAW2SQuhnvQp"
      },
      "execution_count": null,
      "outputs": []
    },
    {
      "cell_type": "code",
      "source": [
        "#Exponential\n",
        "l = float(input(\"average number of events per unit time: \"))\n",
        "X = np.linspace(0,6,100)\n",
        "\n",
        "Y = []\n",
        "for i in X:\n",
        "  Y.append(1-l*mt.e**(-l*i))\n",
        "\n",
        "plt.plot(X,Y)\n",
        "plt.ylabel('CDF')\n",
        "plt.xlabel('Random Variable Value')"
      ],
      "metadata": {
        "id": "DDykkIe3pW6f"
      },
      "execution_count": null,
      "outputs": []
    },
    {
      "cell_type": "code",
      "source": [
        "#Exponential with varied parameter\n",
        "\n",
        "l1 = 0.5\n",
        "l2 = 1.0\n",
        "l3 = 1.5\n",
        "\n",
        "X = np.linspace(0,6,100)\n",
        "\n",
        "Y1,Y2,Y3 = [],[],[]\n",
        "\n",
        "for i in X:\n",
        "  Y1.append(1-l1*mt.e**(-l1*i))\n",
        "\n",
        "for i in X:\n",
        "  Y2.append(1-l2*mt.e**(-l2*i))\n",
        "\n",
        "for i in X:\n",
        "  Y3.append(1-l3*mt.e**(-l3*i))\n",
        "\n",
        "plt.plot(X,Y1)\n",
        "plt.plot(X,Y2)\n",
        "plt.plot(X,Y3)\n",
        "plt.legend(['l1=0.4','l2=1.0','l3=1.5'])\n",
        "plt.ylabel('CDF')\n",
        "plt.xlabel('Random Variable Value')\n"
      ],
      "metadata": {
        "id": "ZB5s-oDp-VfN"
      },
      "execution_count": null,
      "outputs": []
    },
    {
      "cell_type": "code",
      "source": [
        "#Gaussian\n",
        "\n",
        "mean = 0; std = 1; variance = np.square(std)\n",
        "x = np.arange(-20,20,0.01)\n",
        "z = np.exp(-np.square(x-mean)/2*variance)/(np.sqrt(2*np.pi*variance))\n",
        "y = np.cumsum(z)/np.sum(z)\n",
        "\n",
        "plt.plot(x,y)\n",
        "plt.ylabel('CDF')\n",
        "plt.xlabel('Random Variable Value')\n",
        "plt.fill_between(x,y,alpha = 0.3,color='g')"
      ],
      "metadata": {
        "id": "CZDLV3OuIIgp"
      },
      "execution_count": null,
      "outputs": []
    },
    {
      "cell_type": "code",
      "source": [
        "#Cauchy\n",
        "x0=int(input('Enter value of X0:'))\n",
        "gamma=float(input('Enter value of gamma:'))\n",
        "\n",
        "X = np.linspace(-21,21,1000)\n",
        "\n",
        "Y = []\n",
        "for i in X:\n",
        "  a=mt.atan((i-x0)/gamma)\n",
        "  b = a/mt.pi\n",
        "  c = b + 0.5\n",
        "  Y.append(c)\n",
        "plt.plot(X,Y)\n",
        "plt.ylabel('CDF')\n",
        "plt.xlabel('Random Variable Value')\n",
        "plt.show()"
      ],
      "metadata": {
        "id": "2CfYPN_Xp5VX"
      },
      "execution_count": null,
      "outputs": []
    },
    {
      "cell_type": "code",
      "source": [
        "#Cauchy with Varied x0\n",
        "\n",
        "x1=0\n",
        "x2=1\n",
        "x3=2\n",
        "gamma = 2\n",
        "\n",
        "X = np.linspace(-21,21,1000)\n",
        "\n",
        "Y1,Y2,Y3 = [],[],[]\n",
        "for i in X:\n",
        "  a=mt.atan((i-x1)/gamma)\n",
        "  b = a/mt.pi\n",
        "  c = b + 0.5\n",
        "  Y1.append(c)\n",
        "\n",
        "for i in X:\n",
        "  a=mt.atan((i-x2)/gamma)\n",
        "  b = a/mt.pi\n",
        "  c = b + 0.5\n",
        "  Y2.append(c)\n",
        "\n",
        "for i in X:\n",
        "  a=mt.atan((i-x3)/gamma)\n",
        "  b = a/mt.pi\n",
        "  c = b + 0.5\n",
        "  Y3.append(c)\n",
        "\n",
        "plt.plot(X,Y1)\n",
        "plt.plot(X,Y2)\n",
        "plt.plot(X,Y3)\n",
        "plt.legend(['x1=0','x2=1','x3=2'])\n",
        "plt.ylabel('CDF')\n",
        "plt.xlabel('Random Variable Value')\n"
      ],
      "metadata": {
        "id": "bi0xnitu_FFw"
      },
      "execution_count": null,
      "outputs": []
    },
    {
      "cell_type": "code",
      "source": [
        "#Cauchy with Varied gamma\n",
        "\n",
        "x=0\n",
        "gamma1 = 0.5\n",
        "gamma2 = 1.0\n",
        "gamma3 = 2.0\n",
        "\n",
        "X = np.linspace(-21,21,1000)\n",
        "\n",
        "Y1,Y2,Y3 = [],[],[]\n",
        "for i in X:\n",
        "  a=mt.atan((i-x)/gamma1)\n",
        "  b = a/mt.pi\n",
        "  c = b + 0.5\n",
        "  Y1.append(c)\n",
        "\n",
        "for i in X:\n",
        "  a=mt.atan((i-x)/gamma2)\n",
        "  b = a/mt.pi\n",
        "  c = b + 0.5\n",
        "  Y2.append(c)\n",
        "\n",
        "for i in X:\n",
        "  a=mt.atan((i-x)/gamma3)\n",
        "  b = a/mt.pi\n",
        "  c = b + 0.5\n",
        "  Y3.append(c)\n",
        "\n",
        "plt.plot(X,Y1,label='gamma=0.5')\n",
        "plt.plot(X,Y2,label='gamma=1.0')\n",
        "plt.plot(X,Y3,label='gamma=2.0')\n",
        "plt.legend()\n",
        "plt.ylabel('CDF')\n",
        "plt.xlabel('Random Variable Value')\n"
      ],
      "metadata": {
        "id": "poK9sY0P_4uq"
      },
      "execution_count": null,
      "outputs": []
    },
    {
      "cell_type": "code",
      "source": [
        "#Laplacian\n",
        "\n",
        "mu=int(input('Enter value of mu:'))\n",
        "b=int(input('Enter value of b:'))\n",
        "\n",
        "X = np.linspace(-15,15,1000)\n",
        "\n",
        "Y = []\n",
        "for i in X:\n",
        "  if i<mu:\n",
        "    a = (mt.e**((i-mu)/b))*0.5\n",
        "    Y.append(a)\n",
        "  else:\n",
        "    a = 1 - (mt.e**(-(i-mu)/b)*0.5)\n",
        "    Y.append(a)\n",
        "\n",
        "plt.plot(X,Y)\n",
        "plt.ylabel('CDF')\n",
        "plt.xlabel('Random Variable Value')"
      ],
      "metadata": {
        "id": "jlFzqwvassk4"
      },
      "execution_count": null,
      "outputs": []
    },
    {
      "cell_type": "code",
      "source": [
        "#Laplacian with varied mu\n",
        "\n",
        "mu1=0\n",
        "mu2 = 1\n",
        "mu3 = 2\n",
        "\n",
        "b = 1\n",
        "\n",
        "X = np.linspace(-15,15,1000)\n",
        "Y1,Y2,Y3 = [],[],[]\n",
        "\n",
        "for i in X:\n",
        "  if i<mu1:\n",
        "    a = (mt.e**((i-mu1)/b))*0.5\n",
        "    Y1.append(a)\n",
        "  else:\n",
        "    a = 1 - (mt.e**(-(i-mu1)/b)*0.5)\n",
        "    Y1.append(a)\n",
        "\n",
        "for i in X:\n",
        "  if i<mu2:\n",
        "    a = (mt.e**((i-mu2)/b))*0.5\n",
        "    Y2.append(a)\n",
        "  else:\n",
        "    a = 1 - (mt.e**(-(i-mu2)/b)*0.5)\n",
        "    Y2.append(a)\n",
        "\n",
        "for i in X:\n",
        "  if i<mu3:\n",
        "    a = (mt.e**((i-mu3)/b))*0.5\n",
        "    Y3.append(a)\n",
        "  else:\n",
        "    a = 1 - (mt.e**(-(i-mu3)/b)*0.5)\n",
        "    Y3.append(a)\n",
        "\n",
        "plt.plot(X,Y1,label='mu=0')\n",
        "plt.plot(X,Y2,label='mu=1')\n",
        "plt.plot(X,Y3,label='mu=2')\n",
        "plt.legend()\n",
        "plt.ylabel('CDF')\n",
        "plt.xlabel('Random Variable Value')\n",
        "plt.show()"
      ],
      "metadata": {
        "id": "PexycPyyGLvs"
      },
      "execution_count": null,
      "outputs": []
    },
    {
      "cell_type": "code",
      "source": [
        "#Laplacian with varied b\n",
        "\n",
        "mu = 0\n",
        "b1=1\n",
        "b2=2\n",
        "b3=4\n",
        "\n",
        "X = np.linspace(-15,15,1000)\n",
        "Y1,Y2,Y3 = [],[],[]\n",
        "\n",
        "for i in X:\n",
        "  if i<mu:\n",
        "    a = (mt.e**((i-mu)/b1))*0.5\n",
        "    Y1.append(a)\n",
        "  else:\n",
        "    a = 1 - (mt.e**(-(i-mu)/b1)*0.5)\n",
        "    Y1.append(a)\n",
        "\n",
        "for i in X:\n",
        "  if i<mu:\n",
        "    a = (mt.e**((i-mu)/b2))*0.5\n",
        "    Y2.append(a)\n",
        "  else:\n",
        "    a = 1 - (mt.e**(-(i-mu)/b2)*0.5)\n",
        "    Y2.append(a)\n",
        "\n",
        "for i in X:\n",
        "  if i<mu:\n",
        "    a = (mt.e**((i-mu)/b3))*0.5\n",
        "    Y3.append(a)\n",
        "  else:\n",
        "    a = 1 - (mt.e**(-(i-mu)/b3)*0.5)\n",
        "    Y3.append(a)\n",
        "\n",
        "plt.plot(X,Y1,label='mu=0')\n",
        "plt.plot(X,Y2,label='mu=1')\n",
        "plt.plot(X,Y3,label='mu=2')\n",
        "plt.legend()\n",
        "plt.ylabel('CDF')\n",
        "plt.xlabel('Random Variable Value')\n",
        "plt.show()"
      ],
      "metadata": {
        "id": "Wz0LE78bHJrV"
      },
      "execution_count": null,
      "outputs": []
    },
    {
      "cell_type": "code",
      "source": [
        "#Rayleigh\n",
        "\n",
        "sigma=float(input('Enter value of sigma:'))\n",
        "s2=sigma*sigma\n",
        "\n",
        "X = np.linspace(0,11,1000)\n",
        "\n",
        "Y =[]\n",
        "for i in X:\n",
        "  z = 1-mt.exp(-(i**2)/(2*s2))\n",
        "  Y.append(z)\n",
        "\n",
        "plt.plot(X,Y)\n",
        "plt.ylabel('CDF')\n",
        "plt.xlabel('Random Variable Value')\n",
        "plt.show()"
      ],
      "metadata": {
        "id": "5jnvJN2sulfi"
      },
      "execution_count": null,
      "outputs": []
    },
    {
      "cell_type": "code",
      "source": [
        "#Rayleigh with varied parameter\n",
        "\n",
        "sigma1=0.5\n",
        "sigma2 = 2.0\n",
        "sigma3 = 4.0\n",
        "\n",
        "s12=sigma1*sigma1\n",
        "s22=sigma2*sigma2\n",
        "s32=sigma3*sigma3\n",
        "\n",
        "X = np.linspace(0,11,1000)\n",
        "\n",
        "Y1,Y2,Y3 =[],[],[]\n",
        "\n",
        "for i in X:\n",
        "  z = 1-mt.exp(-(i**2)/(2*s12))\n",
        "  Y1.append(z)\n",
        "\n",
        "\n",
        "for i in X:\n",
        "  z = 1-mt.exp(-(i**2)/(2*s22))\n",
        "  Y2.append(z)\n",
        "\n",
        "\n",
        "for i in X:\n",
        "  z = 1-mt.exp(-(i**2)/(2*s32))\n",
        "  Y3.append(z)\n",
        "\n",
        "\n",
        "plt.plot(X,Y1,label='sigma=0.5')\n",
        "plt.plot(X,Y2,label='sigma=2.0')\n",
        "plt.plot(X,Y3,label='sigma=0.5')\n",
        "plt.legend()\n",
        "plt.ylabel('CDF')\n",
        "plt.xlabel('Random Variable Value')\n",
        "\n"
      ],
      "metadata": {
        "id": "CEADjO8WBjkE"
      },
      "execution_count": null,
      "outputs": []
    },
    {
      "cell_type": "markdown",
      "source": [
        "## **CDFs of Discrete Random Variables**"
      ],
      "metadata": {
        "id": "f48slZh9YwKt"
      }
    },
    {
      "cell_type": "code",
      "source": [
        "#Discrete Uniform  Random Variable\n",
        "\n",
        "a = int(input(\"enter a: \"))\n",
        "b = int(input(\"enter b: \"))\n",
        "\n",
        "x = np.arange(a,b+1)\n",
        "\n",
        "y = []\n",
        "\n",
        "for i in x:\n",
        "  outcome = 1/(b-a)\n",
        "  y.append(outcome)\n",
        "\n",
        "z = np.cumsum(y)\n",
        "\n",
        "plt.plot(x, z)\n",
        "plt.fill_between(x,z,alpha=0.3,color='g')\n",
        "plt.ylabel('CDF')\n",
        "plt.xlabel('Random Variable Value')"
      ],
      "metadata": {
        "id": "jCUpBxfUYzLS",
        "colab": {
          "base_uri": "https://localhost:8080/",
          "height": 482
        },
        "outputId": "9d27abfa-be25-488d-d369-3376327557ee"
      },
      "execution_count": null,
      "outputs": [
        {
          "name": "stdout",
          "output_type": "stream",
          "text": [
            "enter a: 0\n",
            "enter b: 4\n"
          ]
        },
        {
          "output_type": "execute_result",
          "data": {
            "text/plain": [
              "<matplotlib.collections.PolyCollection at 0x7df04f611360>"
            ]
          },
          "metadata": {},
          "execution_count": 73
        },
        {
          "output_type": "display_data",
          "data": {
            "text/plain": [
              "<Figure size 640x480 with 1 Axes>"
            ],
            "image/png": "[encoded data removed]"
          },
          "metadata": {}
        }
      ]
    },
    {
      "cell_type": "code",
      "source": [
        "#Geometric Random Variable\n",
        "\n",
        "prob = float(input('Enter chance of success: '))\n",
        "\n",
        "x = np.arange(1,31)\n",
        "\n",
        "y = []\n",
        "\n",
        "for i in x:\n",
        "  outcome = ((1-prob)**(i-1))*prob\n",
        "  y.append(outcome)\n",
        "\n",
        "z = np.cumsum(y)\n",
        "\n",
        "plt.plot(x, z)\n",
        "plt.fill_between(x,z,alpha=0.3,color='g')\n",
        "plt.show()\n",
        "plt.ylabel('CDF')\n",
        "plt.xlabel('Random Variable Value')"
      ],
      "metadata": {
        "id": "rNt9BR7FZENZ"
      },
      "execution_count": null,
      "outputs": []
    },
    {
      "cell_type": "code",
      "source": [
        "#Geometric Random Variable with varied parameters\n",
        "\n",
        "prob1 = 0.3\n",
        "prob2 = 0.4\n",
        "prob3 = 0.5\n",
        "\n",
        "x1 = np.arange(1,20)\n",
        "x2 = np.arange(1,20)\n",
        "x3 = np.arange(1,20)\n",
        "\n",
        "y1,y2,y3 = [],[],[]\n",
        "\n",
        "\n",
        "for i in x1:\n",
        "  outcome = ((1-prob1)**(i-1))*prob1\n",
        "  y1.append(outcome)\n",
        "\n",
        "for i in x2:\n",
        "  outcome = ((1-prob2)**(i-1))*prob2\n",
        "  y2.append(outcome)\n",
        "\n",
        "for i in x3:\n",
        "  outcome = ((1-prob3)**(i-1))*prob3\n",
        "  y3.append(outcome)\n",
        "\n",
        "z1 = np.cumsum(y1)\n",
        "z2 = np.cumsum(y2)\n",
        "z3 = np.cumsum(y3)\n",
        "\n",
        "\n",
        "plt.plot(x1, z1,color='g',label = 'Probability = 0.3')\n",
        "plt.plot(x2,z2,color='r',label = 'probability = 0.4')\n",
        "plt.plot(x3,z3,color='b',label ='probability = 0.5')\n",
        "plt.legend()\n",
        "plt.ylabel('CDF')\n",
        "plt.xlabel('Random Variable Value')\n",
        "plt.show()\n"
      ],
      "metadata": {
        "id": "xp_xmYs94ERc"
      },
      "execution_count": null,
      "outputs": []
    },
    {
      "cell_type": "code",
      "source": [
        "#Binomial Random Variable\n",
        "\n",
        "prob = float(input('Enter chance of success: '))\n",
        "max_trial = int(input('Enter maximum number of trials: '))\n",
        "\n",
        "x = np.arange(1,max_trial)\n",
        "\n",
        "y = []\n",
        "\n",
        "for i in x:\n",
        "  outcome = mt.comb(max_trial,i)*(prob**i)*((1-prob)**(max_trial - i))\n",
        "  y.append(outcome)\n",
        "\n",
        "z = np.cumsum(y)\n",
        "\n",
        "plt.plot(x, z)\n",
        "plt.fill_between(x,z,alpha=0.3,color='g')\n",
        "plt.ylabel('CDF')\n",
        "plt.xlabel('Random Variable Value')"
      ],
      "metadata": {
        "id": "hCl5nn4XbM05"
      },
      "execution_count": null,
      "outputs": []
    },
    {
      "cell_type": "code",
      "source": [
        "#Binomial Random Variable with varied amount of max trials\n",
        "\n",
        "prob = 0.3\n",
        "max_trial1 = 100\n",
        "max_trial2 = 200\n",
        "max_trial3 = 300\n",
        "\n",
        "x1 = np.arange(1,max_trial1)\n",
        "x2 = np.arange(1,max_trial2)\n",
        "x3 = np.arange(1,max_trial3)\n",
        "\n",
        "y1,y2,y3 = [],[],[]\n",
        "\n",
        "for i in x1:\n",
        "  outcome = mt.comb(max_trial1,i)*(prob**i)*((1-prob)**(max_trial1 - i))\n",
        "  y1.append(outcome)\n",
        "\n",
        "for i in x2:\n",
        "  outcome = mt.comb(max_trial2,i)*(prob**i)*((1-prob)**(max_trial2 - i))\n",
        "  y2.append(outcome)\n",
        "\n",
        "for i in x3:\n",
        "  outcome = mt.comb(max_trial3,i)*(prob**i)*((1-prob)**(max_trial3 - i))\n",
        "  y3.append(outcome)\n",
        "\n",
        "z1 = np.cumsum(y1)\n",
        "z2 = np.cumsum(y2)\n",
        "z3 = np.cumsum(y3)\n",
        "\n",
        "plt.plot(x1, z1)\n",
        "plt.plot(x2, z2)\n",
        "plt.plot(x3, z3)\n",
        "plt.legend(['max trials = 100' , 'max trails = 200' , 'max trials = 300'])\n",
        "plt.ylabel('CDF')\n",
        "plt.xlabel('Random Variable Value')"
      ],
      "metadata": {
        "id": "3E7UmTbr7SNy"
      },
      "execution_count": null,
      "outputs": []
    },
    {
      "cell_type": "code",
      "source": [
        "#Binomial Random Variable with varied probability of success\n",
        "\n",
        "max_trial = 100\n",
        "prob1 = 0.3\n",
        "prob2 = 0.4\n",
        "prob3 = 0.5\n",
        "\n",
        "x = np.arange(1,max_trial)\n",
        "\n",
        "\n",
        "y1,y2,y3 = [],[],[]\n",
        "\n",
        "for i in x:\n",
        "  outcome = mt.comb(max_trial,i)*(prob1**i)*((1-prob1)**(max_trial - i))\n",
        "  y1.append(outcome)\n",
        "\n",
        "for i in x:\n",
        "  outcome = mt.comb(max_trial,i)*(prob2**i)*((1-prob2)**(max_trial - i))\n",
        "  y2.append(outcome)\n",
        "\n",
        "for i in x:\n",
        "  outcome = mt.comb(max_trial,i)*(prob3**i)*((1-prob3)**(max_trial - i))\n",
        "  y3.append(outcome)\n",
        "\n",
        "z1 = np.cumsum(y1)\n",
        "z2 = np.cumsum(y2)\n",
        "z3 = np.cumsum(y3)\n",
        "\n",
        "plt.plot(x, z1)\n",
        "plt.plot(x, z2)\n",
        "plt.plot(x, z3)\n",
        "plt.legend(['P=0.3','P=0.4','P=0.5'])\n",
        "plt.ylabel('CDF')\n",
        "plt.xlabel('Random Variable Value')"
      ],
      "metadata": {
        "id": "sc_fwU4f8c0x"
      },
      "execution_count": null,
      "outputs": []
    },
    {
      "cell_type": "code",
      "source": [
        "#Poisson Random Variable\n",
        "\n",
        "average_rate  = int(input('Enter average rate: '))\n",
        "\n",
        "\n",
        "x = np.arange(1,101)\n",
        "\n",
        "y = []\n",
        "\n",
        "for i in x:\n",
        "  outcome = (((mt.e)**(-average_rate)) * ((average_rate)**(i))) / mt.factorial(i)\n",
        "  y.append(outcome)\n",
        "\n",
        "z = np.cumsum(y)\n",
        "\n",
        "plt.plot(x, z)\n",
        "plt.fill_between(x,z,alpha=0.3,color='g')\n",
        "plt.ylabel('CDF')\n",
        "plt.xlabel('Random Variable Value')"
      ],
      "metadata": {
        "id": "F89iElTLdsqM"
      },
      "execution_count": null,
      "outputs": []
    },
    {
      "cell_type": "code",
      "source": [
        "#Poisson Random Variable with varied parameter\n",
        "\n",
        "average_rate1  = 1\n",
        "average_rate2  = 4\n",
        "average_rate3  = 10\n",
        "\n",
        "\n",
        "\n",
        "x = np.arange(1,101)\n",
        "\n",
        "y1,y2,y3 = [],[],[]\n",
        "\n",
        "for i in x:\n",
        "  outcome = (((mt.e)**(-average_rate1)) * ((average_rate1)**(i))) / mt.factorial(i)\n",
        "  y1.append(outcome)\n",
        "\n",
        "for i in x:\n",
        "  outcome = (((mt.e)**(-average_rate2)) * ((average_rate2)**(i))) / mt.factorial(i)\n",
        "  y2.append(outcome)\n",
        "\n",
        "for i in x:\n",
        "  outcome = (((mt.e)**(-average_rate3)) * ((average_rate3)**(i))) / mt.factorial(i)\n",
        "  y3.append(outcome)\n",
        "\n",
        "z1 = np.cumsum(y1)\n",
        "z2 = np.cumsum(y2)\n",
        "z3 = np.cumsum(y3)\n",
        "\n",
        "plt.plot(x, z1)\n",
        "plt.plot(x, z2)\n",
        "plt.plot(x, z3)\n",
        "plt.legend(['L=1','L=4','L=10'])\n",
        "plt.ylabel('CDF')\n",
        "plt.xlabel('Random Variable Value')"
      ],
      "metadata": {
        "id": "WrpebFjg9F-Q"
      },
      "execution_count": null,
      "outputs": []
    }
  ]
}