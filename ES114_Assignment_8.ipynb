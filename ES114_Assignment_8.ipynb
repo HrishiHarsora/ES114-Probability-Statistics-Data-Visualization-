{
  "nbformat": 4,
  "nbformat_minor": 0,
  "metadata": {
    "colab": {
      "provenance": [],
      "include_colab_link": true
    },
    "kernelspec": {
      "name": "python3",
      "display_name": "Python 3"
    },
    "language_info": {
      "name": "python"
    }
  },
  "cells": [
    {
      "cell_type": "markdown",
      "metadata": {
        "id": "view-in-github",
        "colab_type": "text"
      },
      "source": [
        "<a href=\"https://colab.research.google.com/github/HrishiHarsora/ES114-Probability-Statistics-Data-Visualization-/blob/main/ES114_Assignment_8.ipynb\" target=\"_parent\"><img src=\"https://colab.research.google.com/assets/colab-badge.svg\" alt=\"Open In Colab\"/></a>"
      ]
    },
    {
      "cell_type": "code",
      "execution_count": null,
      "metadata": {
        "id": "Zj2oQESo5O9n"
      },
      "outputs": [],
      "source": [
        "import seaborn as S\n",
        "import pandas as pd\n",
        "import numpy as np\n",
        "import statistics as st"
      ]
    },
    {
      "cell_type": "code",
      "source": [
        "S.get_dataset_names()\n",
        "data = S.load_dataset(name='iris')\n",
        "data"
      ],
      "metadata": {
        "id": "YBvRaNDo5wY0",
        "colab": {
          "base_uri": "https://localhost:8080/",
          "height": 423
        },
        "outputId": "69e794e3-f378-4e11-bf59-329f4041b4f6"
      },
      "execution_count": null,
      "outputs": [
        {
          "output_type": "execute_result",
          "data": {
            "text/plain": [
              "     sepal_length  sepal_width  petal_length  petal_width    species\n",
              "0             5.1          3.5           1.4          0.2     setosa\n",
              "1             4.9          3.0           1.4          0.2     setosa\n",
              "2             4.7          3.2           1.3          0.2     setosa\n",
              "3             4.6          3.1           1.5          0.2     setosa\n",
              "4             5.0          3.6           1.4          0.2     setosa\n",
              "..            ...          ...           ...          ...        ...\n",
              "145           6.7          3.0           5.2          2.3  virginica\n",
              "146           6.3          2.5           5.0          1.9  virginica\n",
              "147           6.5          3.0           5.2          2.0  virginica\n",
              "148           6.2          3.4           5.4          2.3  virginica\n",
              "149           5.9          3.0           5.1          1.8  virginica\n",
              "\n",
              "[150 rows x 5 columns]"
            ],
            "text/html": [
              "\n",
              "  <div id=\"df-ecc1f03d-0b51-4539-a155-3b5250884d33\" class=\"colab-df-container\">\n",
              "    <div>\n",
              "<style scoped>\n",
              "    .dataframe tbody tr th:only-of-type {\n",
              "        vertical-align: middle;\n",
              "    }\n",
              "\n",
              "    .dataframe tbody tr th {\n",
              "        vertical-align: top;\n",
              "    }\n",
              "\n",
              "    .dataframe thead th {\n",
              "        text-align: right;\n",
              "    }\n",
              "</style>\n",
              "<table border=\"1\" class=\"dataframe\">\n",
              "  <thead>\n",
              "    <tr style=\"text-align: right;\">\n",
              "      <th></th>\n",
              "      <th>sepal_length</th>\n",
              "      <th>sepal_width</th>\n",
              "      <th>petal_length</th>\n",
              "      <th>petal_width</th>\n",
              "      <th>species</th>\n",
              "    </tr>\n",
              "  </thead>\n",
              "  <tbody>\n",
              "    <tr>\n",
              "      <th>0</th>\n",
              "      <td>5.1</td>\n",
              "      <td>3.5</td>\n",
              "      <td>1.4</td>\n",
              "      <td>0.2</td>\n",
              "      <td>setosa</td>\n",
              "    </tr>\n",
              "    <tr>\n",
              "      <th>1</th>\n",
              "      <td>4.9</td>\n",
              "      <td>3.0</td>\n",
              "      <td>1.4</td>\n",
              "      <td>0.2</td>\n",
              "      <td>setosa</td>\n",
              "    </tr>\n",
              "    <tr>\n",
              "      <th>2</th>\n",
              "      <td>4.7</td>\n",
              "      <td>3.2</td>\n",
              "      <td>1.3</td>\n",
              "      <td>0.2</td>\n",
              "      <td>setosa</td>\n",
              "    </tr>\n",
              "    <tr>\n",
              "      <th>3</th>\n",
              "      <td>4.6</td>\n",
              "      <td>3.1</td>\n",
              "      <td>1.5</td>\n",
              "      <td>0.2</td>\n",
              "      <td>setosa</td>\n",
              "    </tr>\n",
              "    <tr>\n",
              "      <th>4</th>\n",
              "      <td>5.0</td>\n",
              "      <td>3.6</td>\n",
              "      <td>1.4</td>\n",
              "      <td>0.2</td>\n",
              "      <td>setosa</td>\n",
              "    </tr>\n",
              "    <tr>\n",
              "      <th>...</th>\n",
              "      <td>...</td>\n",
              "      <td>...</td>\n",
              "      <td>...</td>\n",
              "      <td>...</td>\n",
              "      <td>...</td>\n",
              "    </tr>\n",
              "    <tr>\n",
              "      <th>145</th>\n",
              "      <td>6.7</td>\n",
              "      <td>3.0</td>\n",
              "      <td>5.2</td>\n",
              "      <td>2.3</td>\n",
              "      <td>virginica</td>\n",
              "    </tr>\n",
              "    <tr>\n",
              "      <th>146</th>\n",
              "      <td>6.3</td>\n",
              "      <td>2.5</td>\n",
              "      <td>5.0</td>\n",
              "      <td>1.9</td>\n",
              "      <td>virginica</td>\n",
              "    </tr>\n",
              "    <tr>\n",
              "      <th>147</th>\n",
              "      <td>6.5</td>\n",
              "      <td>3.0</td>\n",
              "      <td>5.2</td>\n",
              "      <td>2.0</td>\n",
              "      <td>virginica</td>\n",
              "    </tr>\n",
              "    <tr>\n",
              "      <th>148</th>\n",
              "      <td>6.2</td>\n",
              "      <td>3.4</td>\n",
              "      <td>5.4</td>\n",
              "      <td>2.3</td>\n",
              "      <td>virginica</td>\n",
              "    </tr>\n",
              "    <tr>\n",
              "      <th>149</th>\n",
              "      <td>5.9</td>\n",
              "      <td>3.0</td>\n",
              "      <td>5.1</td>\n",
              "      <td>1.8</td>\n",
              "      <td>virginica</td>\n",
              "    </tr>\n",
              "  </tbody>\n",
              "</table>\n",
              "<p>150 rows × 5 columns</p>\n",
              "</div>\n",
              "    <div class=\"colab-df-buttons\">\n",
              "\n",
              "  <div class=\"colab-df-container\">\n",
              "    <button class=\"colab-df-convert\" onclick=\"convertToInteractive('df-ecc1f03d-0b51-4539-a155-3b5250884d33')\"\n",
              "            title=\"Convert this dataframe to an interactive table.\"\n",
              "            style=\"display:none;\">\n",
              "\n",
              "  <svg xmlns=\"http://www.w3.org/2000/svg\" height=\"24px\" viewBox=\"0 -960 960 960\">\n",
              "    <path d=\"M120-120v-720h720v720H120Zm60-500h600v-160H180v160Zm220 220h160v-160H400v160Zm0 220h160v-160H400v160ZM180-400h160v-160H180v160Zm440 0h160v-160H620v160ZM180-180h160v-160H180v160Zm440 0h160v-160H620v160Z\"/>\n",
              "  </svg>\n",
              "    </button>\n",
              "\n",
              "  <style>\n",
              "    .colab-df-container {\n",
              "      display:flex;\n",
              "      gap: 12px;\n",
              "    }\n",
              "\n",
              "    .colab-df-convert {\n",
              "      background-color: #E8F0FE;\n",
              "      border: none;\n",
              "      border-radius: 50%;\n",
              "      cursor: pointer;\n",
              "      display: none;\n",
              "      fill: #1967D2;\n",
              "      height: 32px;\n",
              "      padding: 0 0 0 0;\n",
              "      width: 32px;\n",
              "    }\n",
              "\n",
              "    .colab-df-convert:hover {\n",
              "      background-color: #E2EBFA;\n",
              "      box-shadow: 0px 1px 2px rgba(60, 64, 67, 0.3), 0px 1px 3px 1px rgba(60, 64, 67, 0.15);\n",
              "      fill: #174EA6;\n",
              "    }\n",
              "\n",
              "    .colab-df-buttons div {\n",
              "      margin-bottom: 4px;\n",
              "    }\n",
              "\n",
              "    [theme=dark] .colab-df-convert {\n",
              "      background-color: #3B4455;\n",
              "      fill: #D2E3FC;\n",
              "    }\n",
              "\n",
              "    [theme=dark] .colab-df-convert:hover {\n",
              "      background-color: #434B5C;\n",
              "      box-shadow: 0px 1px 3px 1px rgba(0, 0, 0, 0.15);\n",
              "      filter: drop-shadow(0px 1px 2px rgba(0, 0, 0, 0.3));\n",
              "      fill: #FFFFFF;\n",
              "    }\n",
              "  </style>\n",
              "\n",
              "    <script>\n",
              "      const buttonEl =\n",
              "        document.querySelector('#df-ecc1f03d-0b51-4539-a155-3b5250884d33 button.colab-df-convert');\n",
              "      buttonEl.style.display =\n",
              "        google.colab.kernel.accessAllowed ? 'block' : 'none';\n",
              "\n",
              "      async function convertToInteractive(key) {\n",
              "        const element = document.querySelector('#df-ecc1f03d-0b51-4539-a155-3b5250884d33');\n",
              "        const dataTable =\n",
              "          await google.colab.kernel.invokeFunction('convertToInteractive',\n",
              "                                                    [key], {});\n",
              "        if (!dataTable) return;\n",
              "\n",
              "        const docLinkHtml = 'Like what you see? Visit the ' +\n",
              "          '<a target=\"_blank\" href=https://colab.research.google.com/notebooks/data_table.ipynb>data table notebook</a>'\n",
              "          + ' to learn more about interactive tables.';\n",
              "        element.innerHTML = '';\n",
              "        dataTable['output_type'] = 'display_data';\n",
              "        await google.colab.output.renderOutput(dataTable, element);\n",
              "        const docLink = document.createElement('div');\n",
              "        docLink.innerHTML = docLinkHtml;\n",
              "        element.appendChild(docLink);\n",
              "      }\n",
              "    </script>\n",
              "  </div>\n",
              "\n",
              "\n",
              "<div id=\"df-04dc96a2-8bc6-42cb-9251-f008743db0f4\">\n",
              "  <button class=\"colab-df-quickchart\" onclick=\"quickchart('df-04dc96a2-8bc6-42cb-9251-f008743db0f4')\"\n",
              "            title=\"Suggest charts\"\n",
              "            style=\"display:none;\">\n",
              "\n",
              "<svg xmlns=\"http://www.w3.org/2000/svg\" height=\"24px\"viewBox=\"0 0 24 24\"\n",
              "     width=\"24px\">\n",
              "    <g>\n",
              "        <path d=\"M19 3H5c-1.1 0-2 .9-2 2v14c0 1.1.9 2 2 2h14c1.1 0 2-.9 2-2V5c0-1.1-.9-2-2-2zM9 17H7v-7h2v7zm4 0h-2V7h2v10zm4 0h-2v-4h2v4z\"/>\n",
              "    </g>\n",
              "</svg>\n",
              "  </button>\n",
              "\n",
              "<style>\n",
              "  .colab-df-quickchart {\n",
              "      --bg-color: #E8F0FE;\n",
              "      --fill-color: #1967D2;\n",
              "      --hover-bg-color: #E2EBFA;\n",
              "      --hover-fill-color: #174EA6;\n",
              "      --disabled-fill-color: #AAA;\n",
              "      --disabled-bg-color: #DDD;\n",
              "  }\n",
              "\n",
              "  [theme=dark] .colab-df-quickchart {\n",
              "      --bg-color: #3B4455;\n",
              "      --fill-color: #D2E3FC;\n",
              "      --hover-bg-color: #434B5C;\n",
              "      --hover-fill-color: #FFFFFF;\n",
              "      --disabled-bg-color: #3B4455;\n",
              "      --disabled-fill-color: #666;\n",
              "  }\n",
              "\n",
              "  .colab-df-quickchart {\n",
              "    background-color: var(--bg-color);\n",
              "    border: none;\n",
              "    border-radius: 50%;\n",
              "    cursor: pointer;\n",
              "    display: none;\n",
              "    fill: var(--fill-color);\n",
              "    height: 32px;\n",
              "    padding: 0;\n",
              "    width: 32px;\n",
              "  }\n",
              "\n",
              "  .colab-df-quickchart:hover {\n",
              "    background-color: var(--hover-bg-color);\n",
              "    box-shadow: 0 1px 2px rgba(60, 64, 67, 0.3), 0 1px 3px 1px rgba(60, 64, 67, 0.15);\n",
              "    fill: var(--button-hover-fill-color);\n",
              "  }\n",
              "\n",
              "  .colab-df-quickchart-complete:disabled,\n",
              "  .colab-df-quickchart-complete:disabled:hover {\n",
              "    background-color: var(--disabled-bg-color);\n",
              "    fill: var(--disabled-fill-color);\n",
              "    box-shadow: none;\n",
              "  }\n",
              "\n",
              "  .colab-df-spinner {\n",
              "    border: 2px solid var(--fill-color);\n",
              "    border-color: transparent;\n",
              "    border-bottom-color: var(--fill-color);\n",
              "    animation:\n",
              "      spin 1s steps(1) infinite;\n",
              "  }\n",
              "\n",
              "  @keyframes spin {\n",
              "    0% {\n",
              "      border-color: transparent;\n",
              "      border-bottom-color: var(--fill-color);\n",
              "      border-left-color: var(--fill-color);\n",
              "    }\n",
              "    20% {\n",
              "      border-color: transparent;\n",
              "      border-left-color: var(--fill-color);\n",
              "      border-top-color: var(--fill-color);\n",
              "    }\n",
              "    30% {\n",
              "      border-color: transparent;\n",
              "      border-left-color: var(--fill-color);\n",
              "      border-top-color: var(--fill-color);\n",
              "      border-right-color: var(--fill-color);\n",
              "    }\n",
              "    40% {\n",
              "      border-color: transparent;\n",
              "      border-right-color: var(--fill-color);\n",
              "      border-top-color: var(--fill-color);\n",
              "    }\n",
              "    60% {\n",
              "      border-color: transparent;\n",
              "      border-right-color: var(--fill-color);\n",
              "    }\n",
              "    80% {\n",
              "      border-color: transparent;\n",
              "      border-right-color: var(--fill-color);\n",
              "      border-bottom-color: var(--fill-color);\n",
              "    }\n",
              "    90% {\n",
              "      border-color: transparent;\n",
              "      border-bottom-color: var(--fill-color);\n",
              "    }\n",
              "  }\n",
              "</style>\n",
              "\n",
              "  <script>\n",
              "    async function quickchart(key) {\n",
              "      const quickchartButtonEl =\n",
              "        document.querySelector('#' + key + ' button');\n",
              "      quickchartButtonEl.disabled = true;  // To prevent multiple clicks.\n",
              "      quickchartButtonEl.classList.add('colab-df-spinner');\n",
              "      try {\n",
              "        const charts = await google.colab.kernel.invokeFunction(\n",
              "            'suggestCharts', [key], {});\n",
              "      } catch (error) {\n",
              "        console.error('Error during call to suggestCharts:', error);\n",
              "      }\n",
              "      quickchartButtonEl.classList.remove('colab-df-spinner');\n",
              "      quickchartButtonEl.classList.add('colab-df-quickchart-complete');\n",
              "    }\n",
              "    (() => {\n",
              "      let quickchartButtonEl =\n",
              "        document.querySelector('#df-04dc96a2-8bc6-42cb-9251-f008743db0f4 button');\n",
              "      quickchartButtonEl.style.display =\n",
              "        google.colab.kernel.accessAllowed ? 'block' : 'none';\n",
              "    })();\n",
              "  </script>\n",
              "</div>\n",
              "    </div>\n",
              "  </div>\n"
            ],
            "application/vnd.google.colaboratory.intrinsic+json": {
              "type": "dataframe",
              "variable_name": "data",
              "summary": "{\n  \"name\": \"data\",\n  \"rows\": 150,\n  \"fields\": [\n    {\n      \"column\": \"sepal_length\",\n      \"properties\": {\n        \"dtype\": \"number\",\n        \"std\": 0.828066127977863,\n        \"min\": 4.3,\n        \"max\": 7.9,\n        \"num_unique_values\": 35,\n        \"samples\": [\n          6.2,\n          4.5,\n          5.6\n        ],\n        \"semantic_type\": \"\",\n        \"description\": \"\"\n      }\n    },\n    {\n      \"column\": \"sepal_width\",\n      \"properties\": {\n        \"dtype\": \"number\",\n        \"std\": 0.4358662849366982,\n        \"min\": 2.0,\n        \"max\": 4.4,\n        \"num_unique_values\": 23,\n        \"samples\": [\n          2.3,\n          4.0,\n          3.5\n        ],\n        \"semantic_type\": \"\",\n        \"description\": \"\"\n      }\n    },\n    {\n      \"column\": \"petal_length\",\n      \"properties\": {\n        \"dtype\": \"number\",\n        \"std\": 1.7652982332594662,\n        \"min\": 1.0,\n        \"max\": 6.9,\n        \"num_unique_values\": 43,\n        \"samples\": [\n          6.7,\n          3.8,\n          3.7\n        ],\n        \"semantic_type\": \"\",\n        \"description\": \"\"\n      }\n    },\n    {\n      \"column\": \"petal_width\",\n      \"properties\": {\n        \"dtype\": \"number\",\n        \"std\": 0.7622376689603465,\n        \"min\": 0.1,\n        \"max\": 2.5,\n        \"num_unique_values\": 22,\n        \"samples\": [\n          0.2,\n          1.2,\n          1.3\n        ],\n        \"semantic_type\": \"\",\n        \"description\": \"\"\n      }\n    },\n    {\n      \"column\": \"species\",\n      \"properties\": {\n        \"dtype\": \"category\",\n        \"num_unique_values\": 3,\n        \"samples\": [\n          \"setosa\",\n          \"versicolor\",\n          \"virginica\"\n        ],\n        \"semantic_type\": \"\",\n        \"description\": \"\"\n      }\n    }\n  ]\n}"
            }
          },
          "metadata": {},
          "execution_count": 3
        }
      ]
    },
    {
      "cell_type": "code",
      "source": [
        "def covariance(dataset1,dataset2):\n",
        "\n",
        "  #Using inbuilt numpy functions now to make the code readable. Have already demonsrated the understanding of the\n",
        "  #logic behind these function in mean_variance function\n",
        "\n",
        "  #Means\n",
        "  Mean1 = np.mean(dataset1)\n",
        "  Mean2 = np.mean(dataset2)\n",
        "\n",
        "  #Variance\n",
        "  Var1 = st.variance(dataset1)\n",
        "  Var2 = st.variance(dataset2)\n",
        "\n",
        "  #Covariance(implementation from scratch)\n",
        "  SC = []\n",
        "  for i in range(len(dataset1)):\n",
        "    SC.append((dataset1[i]-Mean1)*(dataset2[i]-Mean2))\n",
        "  Sample_Covariance = np.sum(SC)/(np.size(dataset1)-1)\n",
        "\n",
        "  #Correlation Coefficient\n",
        "  CC = Sample_Covariance / ((np.sqrt(Var1))*(np.sqrt(Var2)))\n",
        "  return CC\n",
        "\n",
        "\n",
        "def mean_variance(dataset):\n",
        "    #For Mean\n",
        "    dataset = np.array(dataset)\n",
        "    count = 0\n",
        "    for i in dataset:\n",
        "      count +=1\n",
        "    sum = 0\n",
        "    for i in dataset:\n",
        "      sum += i\n",
        "    mean = np.round(sum/count,2)\n",
        "    print(\"mean = \" + str(mean))\n",
        "\n",
        "    #for variance\n",
        "    L = []\n",
        "    for j in dataset:\n",
        "      j = (j-mean)**2\n",
        "      L.append(j)\n",
        "    sum = 0\n",
        "    for k in L:\n",
        "      sum += k\n",
        "    variance = round(sum/(count-1),4)\n",
        "    print(\"Variance = \" + str(variance))"
      ],
      "metadata": {
        "id": "3wbVolpnEZ25"
      },
      "execution_count": null,
      "outputs": []
    },
    {
      "cell_type": "code",
      "source": [
        "sepal_length = data['sepal_length']\n",
        "sepal_width = data['sepal_width']\n",
        "petal_length = data['petal_length']\n",
        "petal_width = data['petal_width']"
      ],
      "metadata": {
        "id": "y8yOqCrL7Ms4"
      },
      "execution_count": null,
      "outputs": []
    },
    {
      "cell_type": "markdown",
      "source": [
        "**Question 1 - Mean and Variances**"
      ],
      "metadata": {
        "id": "abHAJBDWgnHG"
      }
    },
    {
      "cell_type": "code",
      "source": [
        "mean_variance(sepal_length)"
      ],
      "metadata": {
        "colab": {
          "base_uri": "https://localhost:8080/"
        },
        "id": "txdyQ-o5Ily2",
        "outputId": "d384e70e-5c8b-426c-b7a1-904520e4a4ae"
      },
      "execution_count": null,
      "outputs": [
        {
          "output_type": "stream",
          "name": "stdout",
          "text": [
            "mean = 5.84\n",
            "Variance = 0.6857\n"
          ]
        }
      ]
    },
    {
      "cell_type": "code",
      "source": [
        "mean_variance(sepal_width)"
      ],
      "metadata": {
        "colab": {
          "base_uri": "https://localhost:8080/"
        },
        "id": "mFj7XmOoIzSO",
        "outputId": "2ebe2d01-c91a-4c0a-e4af-1a39ded69bed"
      },
      "execution_count": null,
      "outputs": [
        {
          "output_type": "stream",
          "name": "stdout",
          "text": [
            "mean = 3.06\n",
            "Variance = 0.19\n"
          ]
        }
      ]
    },
    {
      "cell_type": "code",
      "source": [
        "mean_variance(petal_length)"
      ],
      "metadata": {
        "colab": {
          "base_uri": "https://localhost:8080/"
        },
        "id": "FKXBv9-UI4hT",
        "outputId": "eb25c17b-b7da-4f3c-a843-d6ce579f43f1"
      },
      "execution_count": null,
      "outputs": [
        {
          "output_type": "stream",
          "name": "stdout",
          "text": [
            "mean = 3.76\n",
            "Variance = 3.1163\n"
          ]
        }
      ]
    },
    {
      "cell_type": "code",
      "source": [
        "mean_variance(petal_width)"
      ],
      "metadata": {
        "colab": {
          "base_uri": "https://localhost:8080/"
        },
        "id": "dZzZgZA2I9Rx",
        "outputId": "fb5967af-2537-4888-d7ca-f26c2d059cfb"
      },
      "execution_count": null,
      "outputs": [
        {
          "output_type": "stream",
          "name": "stdout",
          "text": [
            "mean = 1.2\n",
            "Variance = 0.581\n"
          ]
        }
      ]
    },
    {
      "cell_type": "markdown",
      "source": [
        "**Question 2 - Correlation coefficients**"
      ],
      "metadata": {
        "id": "nuGeeXmAgrse"
      }
    },
    {
      "cell_type": "code",
      "source": [
        "D = dict()\n",
        "D['sepal_length,sepal_width'] = covariance(sepal_length,sepal_width)\n",
        "D['sepal_length,petal_length'] = covariance(sepal_length,petal_length)\n",
        "D['sepal_length,petal_width']=covariance(sepal_length,petal_width)\n",
        "D['sepal_width,petal_length']=covariance(sepal_width,petal_length)\n",
        "D['sepal_width,petal_width']=covariance(sepal_width,petal_width)\n",
        "D['petal_length,petal_width']=covariance(petal_length,petal_width)\n",
        "print(D)\n",
        "\n",
        "keys = list(D.keys())\n",
        "values = list(D.values())\n",
        "sorted_value_index = np.flip(np.argsort(values))\n",
        "sorted_D = {keys[i]: values[i] for i in sorted_value_index}\n",
        "for i in sorted_D.keys():\n",
        "  print(i)\n",
        "\n"
      ],
      "metadata": {
        "colab": {
          "base_uri": "https://localhost:8080/"
        },
        "id": "Pl7tTQQdhRY5",
        "outputId": "65e3cde6-e0e2-4564-eabc-48df4656e56e"
      },
      "execution_count": null,
      "outputs": [
        {
          "output_type": "stream",
          "name": "stdout",
          "text": [
            "{'sepal_length,sepal_width': -0.11756978413300202, 'sepal_length,petal_length': 0.8717537758865832, 'sepal_length,petal_width': 0.8179411262715756, 'sepal_width,petal_length': -0.4284401043305397, 'sepal_width,petal_width': -0.3661259325364391, 'petal_length,petal_width': 0.962865431402796}\n",
            "petal_length,petal_width\n",
            "sepal_length,petal_length\n",
            "sepal_length,petal_width\n",
            "sepal_length,sepal_width\n",
            "sepal_width,petal_width\n",
            "sepal_width,petal_length\n"
          ]
        }
      ]
    },
    {
      "cell_type": "markdown",
      "source": [
        "**Question3 - For Specific Species**"
      ],
      "metadata": {
        "id": "sGNku_rcwtoJ"
      }
    },
    {
      "cell_type": "code",
      "source": [
        "#Species 1 - setosa\n",
        "\n",
        "sepal_length = np.ravel(data.loc[data['species']=='setosa',['sepal_length']])\n",
        "sepal_width = np.ravel(data.loc[data['species']=='setosa',['sepal_width']])\n",
        "petal_length = np.ravel(data.loc[data['species']=='setosa',['petal_length']])\n",
        "petal_width = np.ravel(data.loc[data['species']=='setosa',['petal_width']])\n",
        "\n",
        "D = dict()\n",
        "D['sepal_length,sepal_width'] = covariance(sepal_length,sepal_width)\n",
        "D['sepal_length,petal_length'] = covariance(sepal_length,petal_length)\n",
        "D['sepal_length,petal_width']=covariance(sepal_length,petal_width)\n",
        "D['sepal_width,petal_length']=covariance(sepal_width,petal_length)\n",
        "D['sepal_width,petal_width']=covariance(sepal_width,petal_width)\n",
        "D['petal_length,petal_width']=covariance(petal_length,petal_width)\n",
        "print(D)\n",
        "\n",
        "keys = list(D.keys())\n",
        "values = list(D.values())\n",
        "sorted_value_index = np.flip(np.argsort(values))\n",
        "sorted_D = {keys[i]: values[i] for i in sorted_value_index}\n",
        "for i in sorted_D.keys():\n",
        "  print(i)\n",
        "\n",
        "\n"
      ],
      "metadata": {
        "id": "fiQ9ZAEf6nqR",
        "colab": {
          "base_uri": "https://localhost:8080/"
        },
        "outputId": "3448b474-6219-45ef-a09b-a3340a84cadc"
      },
      "execution_count": null,
      "outputs": [
        {
          "output_type": "stream",
          "name": "stdout",
          "text": [
            "{'sepal_length,sepal_width': 0.7425466856651597, 'sepal_length,petal_length': 0.2671757588687572, 'sepal_length,petal_width': 0.2780983529359697, 'sepal_width,petal_length': 0.17769996678227074, 'sepal_width,petal_width': 0.23275201136287935, 'petal_length,petal_width': 0.33163004080411873}\n",
            "sepal_length,sepal_width\n",
            "petal_length,petal_width\n",
            "sepal_length,petal_width\n",
            "sepal_length,petal_length\n",
            "sepal_width,petal_width\n",
            "sepal_width,petal_length\n"
          ]
        }
      ]
    },
    {
      "cell_type": "code",
      "source": [
        "#Species 2 - Versicolor\n",
        "\n",
        "sepal_length = np.ravel(data.loc[data['species']=='versicolor',['sepal_length']])\n",
        "sepal_width = np.ravel(data.loc[data['species']=='versicolor',['sepal_width']])\n",
        "petal_length = np.ravel(data.loc[data['species']=='versicolor',['petal_length']])\n",
        "petal_width = np.ravel(data.loc[data['species']=='versicolor',['petal_width']])\n",
        "\n",
        "D = dict()\n",
        "D['sepal_length,sepal_width'] = covariance(sepal_length,sepal_width)\n",
        "D['sepal_length,petal_length'] = covariance(sepal_length,petal_length)\n",
        "D['sepal_length,petal_width']=covariance(sepal_length,petal_width)\n",
        "D['sepal_width,petal_length']=covariance(sepal_width,petal_length)\n",
        "D['sepal_width,petal_width']=covariance(sepal_width,petal_width)\n",
        "D['petal_length,petal_width']=covariance(petal_length,petal_width)\n",
        "\n",
        "print(D)\n",
        "keys = list(D.keys())\n",
        "values = list(D.values())\n",
        "sorted_value_index = np.flip(np.argsort(values))\n",
        "sorted_D = {keys[i]: values[i] for i in sorted_value_index}\n",
        "for i in sorted_D.keys():\n",
        "  print(i)\n",
        "\n",
        "\n",
        "\n"
      ],
      "metadata": {
        "id": "5dSYZMBK9LJi",
        "colab": {
          "base_uri": "https://localhost:8080/"
        },
        "outputId": "79bfe9c3-c217-4a7c-9bc1-620b98977d77"
      },
      "execution_count": null,
      "outputs": [
        {
          "output_type": "stream",
          "name": "stdout",
          "text": [
            "{'sepal_length,sepal_width': 0.5259107172828247, 'sepal_length,petal_length': 0.7540489585920161, 'sepal_length,petal_width': 0.54646107159863, 'sepal_width,petal_length': 0.560522091692982, 'sepal_width,petal_width': 0.6639987200241114, 'petal_length,petal_width': 0.7866680885228168}\n",
            "petal_length,petal_width\n",
            "sepal_length,petal_length\n",
            "sepal_width,petal_width\n",
            "sepal_width,petal_length\n",
            "sepal_length,petal_width\n",
            "sepal_length,sepal_width\n"
          ]
        }
      ]
    },
    {
      "cell_type": "code",
      "source": [
        "#Species 3 - Virginica\n",
        "\n",
        "sepal_length = np.ravel(data.loc[data['species']=='virginica',['sepal_length']])\n",
        "sepal_width = np.ravel(data.loc[data['species']=='virginica',['sepal_width']])\n",
        "petal_length = np.ravel(data.loc[data['species']=='virginica',['petal_length']])\n",
        "petal_width = np.ravel(data.loc[data['species']=='virginica',['petal_width']])\n",
        "\n",
        "D = dict()\n",
        "D['sepal_length,sepal_width'] = covariance(sepal_length,sepal_width)\n",
        "D['sepal_length,petal_length'] = covariance(sepal_length,petal_length)\n",
        "D['sepal_length,petal_width']=covariance(sepal_length,petal_width)\n",
        "D['sepal_width,petal_length']=covariance(sepal_width,petal_length)\n",
        "D['sepal_width,petal_width']=covariance(sepal_width,petal_width)\n",
        "D['petal_length,petal_width']=covariance(petal_length,petal_width)\n",
        "\n",
        "print(D)\n",
        "keys = list(D.keys())\n",
        "values = list(D.values())\n",
        "sorted_value_index = np.flip(np.argsort(values))\n",
        "sorted_D = {keys[i]: values[i] for i in sorted_value_index}\n",
        "for i in sorted_D.keys():\n",
        "  print(i)\n"
      ],
      "metadata": {
        "colab": {
          "base_uri": "https://localhost:8080/"
        },
        "id": "dovV1aAHF-2l",
        "outputId": "95b11fed-e07d-4fdb-a71c-a5198b7ae378"
      },
      "execution_count": null,
      "outputs": [
        {
          "output_type": "stream",
          "name": "stdout",
          "text": [
            "{'sepal_length,sepal_width': 0.4572278163941129, 'sepal_length,petal_length': 0.8642247329355763, 'sepal_length,petal_width': 0.2811077091573194, 'sepal_width,petal_length': 0.4010445773427855, 'sepal_width,petal_width': 0.5377280262661889, 'petal_length,petal_width': 0.3221082159003183}\n",
            "sepal_length,petal_length\n",
            "sepal_width,petal_width\n",
            "sepal_length,sepal_width\n",
            "sepal_width,petal_length\n",
            "petal_length,petal_width\n",
            "sepal_length,petal_width\n"
          ]
        }
      ]
    }
  ]
}