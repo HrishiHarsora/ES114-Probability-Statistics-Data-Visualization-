{
  "nbformat": 4,
  "nbformat_minor": 0,
  "metadata": {
    "colab": {
      "provenance": [],
      "authorship_tag": "ABX9TyOJejSfGhRf6/gnOThgBe+d",
      "include_colab_link": true
    },
    "kernelspec": {
      "name": "python3",
      "display_name": "Python 3"
    },
    "language_info": {
      "name": "python"
    }
  },
  "cells": [
    {
      "cell_type": "markdown",
      "metadata": {
        "id": "view-in-github",
        "colab_type": "text"
      },
      "source": [
        "<a href=\"https://colab.research.google.com/github/HrishiHarsora/ES114-Probability-Statistics-Data-Visualization-/blob/main/ES114_Assignment_3.ipynb\" target=\"_parent\"><img src=\"https://colab.research.google.com/assets/colab-badge.svg\" alt=\"Open In Colab\"/></a>"
      ]
    },
    {
      "cell_type": "markdown",
      "source": [
        "Importing Libraries"
      ],
      "metadata": {
        "id": "XB8MrLbteVcK"
      }
    },
    {
      "cell_type": "code",
      "execution_count": null,
      "metadata": {
        "id": "DwwHQr6KeC3u"
      },
      "outputs": [],
      "source": [
        "import matplotlib.pyplot as plt\n",
        "import numpy as np\n",
        "import math as mt"
      ]
    },
    {
      "cell_type": "markdown",
      "source": [
        "## **Discrete Uniform**"
      ],
      "metadata": {
        "id": "PMnAI48twgNZ"
      }
    },
    {
      "cell_type": "code",
      "source": [
        "#Parameters\n",
        "a = int(input(\"a: \"))\n",
        "b = int(input(\"b: \"))\n",
        "\n",
        "#Output of the Random Variable\n",
        "x = []\n",
        "for i in range(a,b):\n",
        "  x.append(i)\n",
        "\n",
        "#Output of the PMF\n",
        "y = []\n",
        "for j in x:\n",
        "  y.append(1 / (b-a+1))\n",
        "\n",
        "#Plotting\n",
        "plt.stem(x,y,basefmt='b')\n",
        "plt.xlabel('Output of the Random Variable')\n",
        "plt.ylabel('Probability ')\n",
        "plt.title('Probability Mass Function for Poisson Random Variable')"
      ],
      "metadata": {
        "id": "pnVJBGDKwkxO"
      },
      "execution_count": null,
      "outputs": []
    },
    {
      "cell_type": "markdown",
      "source": [
        "**Comparing Plots with different Parameters for the PMF**\n"
      ],
      "metadata": {
        "id": "fuPO0q3rymBA"
      }
    },
    {
      "cell_type": "code",
      "source": [
        "#Parameters\n",
        "a = 2\n",
        "b = 23\n",
        "\n",
        "#Output of the Random Variable\n",
        "x = []\n",
        "for i in range(a,b):\n",
        "  x.append(i)\n",
        "\n",
        "#Output of PMF\n",
        "y1 = []\n",
        "for j in x:\n",
        "  y1.append(1/(b-a+1))\n",
        "\n",
        "#Plotting\n",
        "plt.stem(x,y1,basefmt='b')"
      ],
      "metadata": {
        "id": "WgDX6jjGyu5s"
      },
      "execution_count": null,
      "outputs": []
    },
    {
      "cell_type": "code",
      "source": [
        "#Parameters\n",
        "a = 10\n",
        "b = 69\n",
        "\n",
        "#Output of the Random Variable\n",
        "x = []\n",
        "for i in range(a,b):\n",
        "  x.append(i)\n",
        "\n",
        "#Output of the PMF\n",
        "y2 = []\n",
        "for j in x:\n",
        "  y2.append(1 / (b-a+1))\n",
        "\n",
        "#Plotting\n",
        "plt.stem(x,y2,basefmt='b')"
      ],
      "metadata": {
        "id": "0yFeNPYgzFE2"
      },
      "execution_count": null,
      "outputs": []
    },
    {
      "cell_type": "markdown",
      "source": [
        "## **Bernoulli Random Variable**"
      ],
      "metadata": {
        "id": "tlI6CSj5rAoY"
      }
    },
    {
      "cell_type": "code",
      "source": [
        "#Parameters\n",
        "p = float(input(\"Probability of Success\"))\n",
        "\n",
        "#Input to PMF\n",
        "x = [0,1,0,1]\n",
        "\n",
        "#Output of the PMF\n",
        "y = []\n",
        "for i in x:\n",
        "  if i == 0:\n",
        "    y.append(1-p)\n",
        "  else:\n",
        "    y.append(p)\n",
        "\n",
        "#Plotting\n",
        "plt.stem(x,y,basefmt='b')\n",
        "plt.xlabel('Output of Random Variable')\n",
        "plt.ylabel('Probability')\n",
        "plt.title('Probability Mass Function for Poisson Random Variable')"
      ],
      "metadata": {
        "id": "1HHBJ5m8rE8Q"
      },
      "execution_count": null,
      "outputs": []
    },
    {
      "cell_type": "markdown",
      "source": [
        "Comparing plots with different parameters for PMF"
      ],
      "metadata": {
        "id": "oGFiipFNv0qG"
      }
    },
    {
      "cell_type": "code",
      "source": [
        "#Parameter\n",
        "p1 = 0.5\n",
        "\n",
        "#Input to PMF\n",
        "x = [0,1]\n",
        "\n",
        "#Output of the PMF\n",
        "y1 = []\n",
        "for i in x:\n",
        "  if i == 0:\n",
        "    y1.append(1-p1)\n",
        "  else:\n",
        "    y1.append(p1)\n",
        "\n",
        "#Plotting\n",
        "plt.stem(x,y1,basefmt='b')\n",
        "\n"
      ],
      "metadata": {
        "id": "Rx2LzXNNv8Uz"
      },
      "execution_count": null,
      "outputs": []
    },
    {
      "cell_type": "code",
      "source": [
        "#Parameter\n",
        "p2 = 0.8\n",
        "\n",
        "#Input to PMF\n",
        "x = [0,1]\n",
        "\n",
        "#Output of the PMF\n",
        "y3 = []\n",
        "for i in x:\n",
        "  if i == 0:\n",
        "    y3.append(1-p2)\n",
        "  else:\n",
        "    y3.append(p2)\n",
        "\n",
        "#Plotting\n",
        "plt.stem(x,y3,basefmt='b')\n",
        "\n"
      ],
      "metadata": {
        "id": "_UllYO8-wM_r"
      },
      "execution_count": null,
      "outputs": []
    },
    {
      "cell_type": "markdown",
      "source": [
        "## **Binomial Random Variable**"
      ],
      "metadata": {
        "id": "rbJN0TOaGGB2"
      }
    },
    {
      "cell_type": "code",
      "source": [
        "#Parameters\n",
        "#No of Successes\n",
        "m = int(input(\"\"))\n",
        "#Probability of Success\n",
        "p = float(input(\"Probability of Success: \"))\n",
        "\n",
        "#Defining Required Mathematical Functions\n",
        "def factorial(n):\n",
        "    result = 1\n",
        "    for i in range(1, n + 1):\n",
        "        result *= i\n",
        "    return result\n",
        "\n",
        "def comb(s,w):\n",
        "  A = factorial(s) / (factorial(w) * factorial(s-w))\n",
        "  return A\n",
        "\n",
        "#Output of the Random Variable\n",
        "x = []\n",
        "for s in range(1,31):\n",
        "  x.append(s)\n",
        "\n",
        "#Output of the PMF\n",
        "y = []\n",
        "for i in x:\n",
        "  z = comb(m,i) * (p**i) * ((1-p)**(m-i))\n",
        "  y.append(z)\n",
        "0\n",
        "#plotting\n",
        "plt.stem(x,y,basefmt='b')\n",
        "plt.xlabel('Output of the Random Variable')\n",
        "plt.ylabel('Probability')\n",
        "plt.title('Probability Mass Function of Binomial Random Variable')"
      ],
      "metadata": {
        "id": "m7029iWNGFO2",
        "outputId": "9b5d99ba-9937-4de9-ac9f-1837d670dafb",
        "colab": {
          "base_uri": "https://localhost:8080/",
          "height": 524
        }
      },
      "execution_count": null,
      "outputs": [
        {
          "name": "stdout",
          "output_type": "stream",
          "text": [
            "50\n",
            "Probability of Success: 0.02\n"
          ]
        },
        {
          "output_type": "execute_result",
          "data": {
            "text/plain": [
              "Text(0.5, 1.0, 'Probability Mass Function of Binomial Random Variable')"
            ]
          },
          "metadata": {},
          "execution_count": 21
        },
        {
          "output_type": "display_data",
          "data": {
            "text/plain": [
              "<Figure size 640x480 with 1 Axes>"
            ],
            "image/png": "[encoded data removed]"
          },
          "metadata": {}
        }
      ]
    },
    {
      "cell_type": "markdown",
      "source": [
        "**Comparing Plots with different Parameters for the PMF**"
      ],
      "metadata": {
        "id": "gR918ROqoElX"
      }
    },
    {
      "cell_type": "code",
      "source": [
        "#Comparing plots of same PMF but with different parameters\n",
        "\n",
        "#Output of the Random Variable\n",
        "x=[]\n",
        "for i in range(1,31):\n",
        "  x.append(i)\n",
        "\n",
        "\n",
        "def factorial(n):\n",
        "    result = 1\n",
        "    for i in range(1, n + 1):\n",
        "        result *= i\n",
        "    return result\n",
        "\n",
        "def comb(s,w):\n",
        "  A = factorial(s) / (factorial(w) * factorial(s-w))\n",
        "  return A\n",
        "\n",
        "#First Plot with parameters m1 and p1\n",
        "m1 = 5\n",
        "p1 = 0.3\n",
        "y1 = []\n",
        "for i in x:\n",
        "  w = comb(m1,i) * (p1**i) * ((1-p1)**(m1-i))\n",
        "  y1.append(w)\n",
        "plt.stem(x,y1,basefmt='b')"
      ],
      "metadata": {
        "id": "SrHkA08kmUkP"
      },
      "execution_count": null,
      "outputs": []
    },
    {
      "cell_type": "code",
      "source": [
        "#Output of the Random Variable\n",
        "x=[]\n",
        "for i in range(1,31):\n",
        "  x.append(i)\n",
        "\n",
        "\n",
        "def factorial(n):\n",
        "    result = 1\n",
        "    for i in range(1, n + 1):\n",
        "        result *= i\n",
        "    return result\n",
        "\n",
        "def comb(s,w):\n",
        "  A = factorial(s) / (factorial(w) * factorial(s-w))\n",
        "  return A\n",
        "\n",
        "#Second Plot ith parameters m2 and p2\n",
        "m2 = 10\n",
        "p2 = 0.6\n",
        "y2 = []\n",
        "for j in x:\n",
        "  f = comb(m2,j) * (p2*j) * ((1-p2)**(m2-j))\n",
        "  y2.append(f)\n",
        "plt.stem(x,y2,basefmt='b')\n"
      ],
      "metadata": {
        "id": "89Z5xmANn45X"
      },
      "execution_count": null,
      "outputs": []
    },
    {
      "cell_type": "code",
      "source": [
        "#Output of the Random Variable\n",
        "x=[]\n",
        "for i in range(1,31):\n",
        "  x.append(i)\n",
        "\n",
        "\n",
        "def factorial(n):\n",
        "    result = 1\n",
        "    for i in range(1, n + 1):\n",
        "        result *= i\n",
        "    return result\n",
        "\n",
        "def comb(s,w):\n",
        "  A = factorial(s) / (factorial(w) * factorial(s-w))\n",
        "  return A\n",
        "\n",
        "\n",
        "#Third Plot with parameters m3 and p3\n",
        "m3 = 20\n",
        "p3 = 0.15\n",
        "y3 = []\n",
        "for k in x:\n",
        "  e = comb(m3,k) * (p3**k) * ((1-p3)**(m3-k))\n",
        "  y3.append(e)\n",
        "plt.stem(x,y3,basefmt='b')"
      ],
      "metadata": {
        "id": "GysYoecPn5IS"
      },
      "execution_count": null,
      "outputs": []
    },
    {
      "cell_type": "markdown",
      "source": [
        "## **Poisson Random Variable**\n"
      ],
      "metadata": {
        "id": "4ZOVQN8vAblQ"
      }
    },
    {
      "cell_type": "code",
      "source": [
        "#Parameters\n",
        "#Known Data\n",
        "k = int((input(\"Enter: \")))\n",
        "\n",
        "#Output of the Random Variable\n",
        "x = []\n",
        "for i in range(1,31):\n",
        "  x.append(i)\n",
        "\n",
        "#Defining Required Mathematical Functions\n",
        "def factorial(n):\n",
        "    result = 1\n",
        "    for i in range(1, n + 1):\n",
        "        result *= i\n",
        "    return result\n",
        "\n",
        "#Output of the PMF\n",
        "y = []\n",
        "for j in x:\n",
        "  w = (((mt.e)**(-k)) * ((k)**(j))) / factorial(j)\n",
        "  y.append(w)\n",
        "\n",
        "plt.stem(x,y,basefmt='b')\n",
        "plt.xlabel('Output of Random Variable')\n",
        "plt.ylabel('Probability')\n",
        "plt.title('Probability Mass Function for Poisson Random Variable')"
      ],
      "metadata": {
        "id": "q1MmsLE_AieY"
      },
      "execution_count": null,
      "outputs": []
    },
    {
      "cell_type": "markdown",
      "source": [
        "**Comparing Plots with different Parameters for the PMF**"
      ],
      "metadata": {
        "id": "fYMrQXKtosV-"
      }
    },
    {
      "cell_type": "code",
      "source": [
        "#Plot 1 with parameter k1\n",
        "k1 = 1\n",
        "\n",
        "#Output of the Random Variable\n",
        "x = []\n",
        "for i in range(1,31):\n",
        "  x.append(i)\n",
        "\n",
        "#Defining Required Mathematical Functions\n",
        "def factorial(n):\n",
        "    result = 1\n",
        "    for i in range(1, n + 1):\n",
        "        result *= i\n",
        "    return result\n",
        "\n",
        "#Output of the PMF\n",
        "y1 = []\n",
        "for i in x:\n",
        "   w = (((mt.e)**(-k1)) * ((k1)**(i))) / factorial(i)\n",
        "   y1.append(w)\n",
        "\n",
        "plt.stem(x,y1,basefmt='b')"
      ],
      "metadata": {
        "id": "-XWLqYi_o2qN"
      },
      "execution_count": null,
      "outputs": []
    },
    {
      "cell_type": "code",
      "source": [
        "#Plot 1 with parameter k2\n",
        "k2 = 10\n",
        "\n",
        "#Output of the Random Variable\n",
        "x = []\n",
        "for i in range(1,31):\n",
        "  x.append(i)\n",
        "\n",
        "#Defining Required Mathematical Functions\n",
        "def factorial(n):\n",
        "    result = 1\n",
        "    for i in range(1, n + 1):\n",
        "        result *= i\n",
        "    return result\n",
        "\n",
        "#Output of the PMF\n",
        "y2 = []\n",
        "for j in x:\n",
        "   f = (((mt.e)**(-k2)) * ((k2)**(j))) / factorial(j)\n",
        "   y2.append(f)\n",
        "\n",
        "plt.stem(x,y2,basefmt='b')"
      ],
      "metadata": {
        "id": "1qxVe35bpoF7"
      },
      "execution_count": null,
      "outputs": []
    },
    {
      "cell_type": "markdown",
      "source": [
        "## **Geometric Random Variable**"
      ],
      "metadata": {
        "id": "6z3DywMHejPI"
      }
    },
    {
      "cell_type": "code",
      "source": [
        "#Parameters\n",
        "#Probability of Success\n",
        "p = float(input(\"Probability of Success: \"))\n",
        "\n",
        "#Generating ourput of Random Variable\n",
        "x = np.arange(1,31)\n",
        "\n",
        "\n",
        "#Generating output of PMF\n",
        "y = p * (1-p)**(x-1)\n",
        "\n",
        "#plotting\n",
        "plt.stem(x,y,basefmt='b')\n",
        "plt.xlabel('Output of Random Variable')\n",
        "plt.ylabel('Probability')\n",
        "plt.title('Probability Mass Function for Geometric Random Variable')"
      ],
      "metadata": {
        "id": "WGo48s_D8AaZ"
      },
      "execution_count": null,
      "outputs": []
    },
    {
      "cell_type": "code",
      "source": [
        "#Comparing plots of same PMF, but with different parameters\n",
        "p1 = 0.3\n",
        "p2 = 0.5\n",
        "p3 = 0.8\n",
        "x = np.arange(1,30)\n",
        "y1 = p1 * (1-p1)**(x-1)\n",
        "y2 = p2 * (1-p2)**(x-1)\n",
        "y3 = p3 * (1-p3)**(x-1)\n",
        "plt.bar(x,y1)\n",
        "plt.bar(x,y2)\n",
        "plt.bar(x,y3)\n",
        "plt.legend(['p=0.3' , 'p=0.5' , 'p=0.8'])"
      ],
      "metadata": {
        "id": "F0xfwOv2AGXP"
      },
      "execution_count": null,
      "outputs": []
    },
    {
      "cell_type": "markdown",
      "source": [
        "## **Equivalence of PMFs of Binomial and Poisson Random Variables**"
      ],
      "metadata": {
        "id": "CgvaVkYvbEaJ"
      }
    },
    {
      "cell_type": "code",
      "source": [
        "#PMF of Binomial Random Variable with large m and small p\n",
        "m = 100\n",
        "p = 0.003\n",
        "\n",
        "#Output of the Random Variable\n",
        "x = []\n",
        "for s in range(1,31):\n",
        "  x.append(s)\n",
        "\n",
        "#Defining Required Mathematical Functions\n",
        "def factorial(n):\n",
        "    result = 1\n",
        "    for i in range(1, n + 1):\n",
        "        result *= i\n",
        "    return result\n",
        "\n",
        "def comb(s,w):\n",
        "  A = factorial(s) / (factorial(w) * factorial(s-w))\n",
        "  return A\n",
        "\n",
        "#Output of the PMF\n",
        "y = []\n",
        "for i in x:\n",
        "  z = comb(m,i) * (p**i) * ((1-p)**(m-i))\n",
        "  y.append(z)\n",
        "\n",
        "#plotting\n",
        "plt.stem(x,y,basefmt='b')\n",
        "plt.xlabel('Output of the Random Variable')\n",
        "plt.ylabel('Probability')\n",
        "plt.title('Probability Mass Function of Random Variable')\n",
        "\n",
        "\n",
        "\n",
        "\n",
        "#PMF of Poisson Random Variable\n",
        "k = p * m\n",
        "\n",
        "#Output of the Random Variable\n",
        "x = []\n",
        "for i in range(1,31):\n",
        "  x.append(i)\n",
        "\n",
        "#Defining Required Mathematical Functions\n",
        "def factorial(n):\n",
        "    result = 1\n",
        "    for i in range(1, n + 1):\n",
        "        result *= i\n",
        "    return result\n",
        "\n",
        "#Output of the PMF\n",
        "y = []\n",
        "for j in x:\n",
        "  w = (((mt.e)**(-k)) * ((k)**(j))) / factorial(j)\n",
        "  y.append(w)\n",
        "\n",
        "plt.plot(x,y,'g')\n",
        "plt.xlabel('Output of Random Variable')\n",
        "plt.ylabel('Probability')\n",
        "plt.title('Probability Mass Function of Random Variable')"
      ],
      "metadata": {
        "id": "GTrj_I03bR13"
      },
      "execution_count": null,
      "outputs": []
    }
  ]
}