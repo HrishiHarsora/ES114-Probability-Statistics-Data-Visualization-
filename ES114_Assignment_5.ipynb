{
  "nbformat": 4,
  "nbformat_minor": 0,
  "metadata": {
    "colab": {
      "provenance": [],
      "authorship_tag": "ABX9TyNJqxzc2XOJa7MQAA5anqdG",
      "include_colab_link": true
    },
    "kernelspec": {
      "name": "python3",
      "display_name": "Python 3"
    },
    "language_info": {
      "name": "python"
    }
  },
  "cells": [
    {
      "cell_type": "markdown",
      "metadata": {
        "id": "view-in-github",
        "colab_type": "text"
      },
      "source": [
        "<a href=\"https://colab.research.google.com/github/HrishiHarsora/ES114-Probability-Statistics-Data-Visualization-/blob/main/ES114_Assignment_5.ipynb\" target=\"_parent\"><img src=\"https://colab.research.google.com/assets/colab-badge.svg\" alt=\"Open In Colab\"/></a>"
      ]
    },
    {
      "cell_type": "markdown",
      "source": [
        "## **Lab Assignment 5 (Graded): Histogram Equalization and Matching**"
      ],
      "metadata": {
        "id": "GOMaxfeM2-bg"
      }
    },
    {
      "cell_type": "markdown",
      "source": [
        "**Importing Libraries**"
      ],
      "metadata": {
        "id": "gJfqrehgUKBD"
      }
    },
    {
      "cell_type": "code",
      "execution_count": null,
      "metadata": {
        "id": "LRpKADKuT3eP"
      },
      "outputs": [],
      "source": [
        "import matplotlib.pyplot as plt\n",
        "import numpy as np\n",
        "import cv2"
      ]
    },
    {
      "cell_type": "markdown",
      "source": [
        "**Function for generating normalized Histogram of Image**"
      ],
      "metadata": {
        "id": "Qv-oUtxUUQHD"
      }
    },
    {
      "cell_type": "code",
      "source": [
        "def plot_histogram(image,title):\n",
        "  histogram,_=np.histogram(image.flatten(),256,[0,256])\n",
        "  Pixels=image.shape[0]*image.shape[1]\n",
        "  normalized_histogram=histogram/Pixels\n",
        "  plt.bar(np.arange(256),normalized_histogram,color=\"black\")\n",
        "  plt.xlabel(\"Intensity\")\n",
        "  plt.ylabel(\"Density\")\n",
        "  plt.title(title)"
      ],
      "metadata": {
        "id": "mQLk8K9WUXW-"
      },
      "execution_count": null,
      "outputs": []
    },
    {
      "cell_type": "markdown",
      "source": [
        "**Function for Equalized Image**"
      ],
      "metadata": {
        "id": "n0W6ewHUU3UA"
      }
    },
    {
      "cell_type": "code",
      "source": [
        "def equalization(image):\n",
        "    histogram, _ = np.histogram(image.flatten(), 256, [0,256])\n",
        "    cdf = histogram.cumsum()\n",
        "    cdf_normalized = ((cdf - cdf.min()) * 255) / (cdf.max() - cdf.min())\n",
        "    equalized_image = cdf_normalized[image.flatten()]\n",
        "    equalized_image = equalized_image.reshape(image.shape)\n",
        "\n",
        "    return equalized_image.astype(np.uint8)"
      ],
      "metadata": {
        "id": "hCQwOeWGU5_a"
      },
      "execution_count": null,
      "outputs": []
    },
    {
      "cell_type": "markdown",
      "source": [
        "**Function for Matching**"
      ],
      "metadata": {
        "id": "rDUqmhDAVLkL"
      }
    },
    {
      "cell_type": "code",
      "source": [
        "def histogram_matching(source_img, target_img):\n",
        "    hist_source, _ = np.histogram(source_img.flatten(), 256, [0,256])\n",
        "    hist_target, _ = np.histogram(target_img.flatten(), 256, [0,256])\n",
        "    cdf_source = hist_source.cumsum()\n",
        "    cdf_target = hist_target.cumsum()\n",
        "    cdf_source_normalized = cdf_source / cdf_source.max()\n",
        "    cdf_target_normalized = cdf_target / cdf_target.max()\n",
        "\n",
        "    map_img = np.zeros(256, dtype=np.uint8)\n",
        "\n",
        "    for i in range(256):\n",
        "        min_diff = np.inf\n",
        "        for j in range(256):\n",
        "            diff = abs(cdf_source_normalized[i] - cdf_target_normalized[j])\n",
        "            if diff < min_diff:\n",
        "                min_diff = diff\n",
        "                map_img[i] = j\n",
        "\n",
        "    matched_img = map_img[source_img]\n",
        "\n",
        "    return matched_img.astype(np.uint8)"
      ],
      "metadata": {
        "id": "X6YVOkaWVRUW"
      },
      "execution_count": null,
      "outputs": []
    },
    {
      "cell_type": "code",
      "source": [
        "img1=cv2.imread(\"grey_1.png\",0)\n",
        "img2=cv2.imread(\"grey_2.png\",0)\n",
        "img3=cv2.imread(\"grey_3.png\",0)\n",
        "img4=cv2.imread(\"grey_4.png\",0)"
      ],
      "metadata": {
        "id": "TpzXPDiCVz2E"
      },
      "execution_count": null,
      "outputs": []
    },
    {
      "cell_type": "code",
      "source": [
        "equalized_image_1 = equalization(img1)\n",
        "equalized_image_2 = equalization(img2)\n",
        "\n",
        "matched_image = histogram_matching(equalized_image_1,equalized_image_2)\n",
        "\n",
        "plt.figure(figsize=(15,10))\n",
        "\n",
        "plt.subplot(3, 3, 1)\n",
        "plt.imshow(cv2.cvtColor(img1, cv2.COLOR_BGR2RGB))\n",
        "plt.axis(\"off\")\n",
        "plt.title('Source Image')\n",
        "\n",
        "\n",
        "plt.subplot(3, 3, 2)\n",
        "plt.imshow(cv2.cvtColor(equalized_image_1, cv2.COLOR_BGR2RGB))\n",
        "plt.axis(\"off\")\n",
        "plt.title('Equalized Source Image')\n",
        "\n",
        "\n",
        "plt.subplot(3, 3, 3)\n",
        "plot_histogram(equalized_image_1, 'Histogram for Equalized Source Image')\n",
        "\n",
        "plt.subplot(3, 3, 4)\n",
        "plt.imshow(cv2.cvtColor(img2, cv2.COLOR_BGR2RGB))\n",
        "plt.axis(\"off\")\n",
        "plt.title('Target Image')\n",
        "\n",
        "plt.subplot(3, 3, 5)\n",
        "plt.imshow(cv2.cvtColor(equalized_image_2, cv2.COLOR_BGR2RGB))\n",
        "plt.axis(\"off\")\n",
        "plt.title('Equalized Target Image')\n",
        "plt.tight_layout()\n",
        "\n",
        "plt.subplot(3, 3, 6)\n",
        "plot_histogram(equalized_image_2, 'Histogram - Equalized Target Image')\n",
        "\n",
        "plt.subplot(3, 3,7)\n",
        "plt.imshow(matched_image, cmap='gray')\n",
        "plt.axis('off')\n",
        "plt.title('MATCHED OUTPUT IMAGE')\n",
        "plt.tight_layout()\n",
        "\n",
        "plt.subplot(5, 3, 15)\n",
        "plot_histogram(matched_image, \"HISTOGRAM(MATCHED IMAGE)\")\n",
        "\n",
        "plt.show()"
      ],
      "metadata": {
        "colab": {
          "base_uri": "https://localhost:8080/",
          "height": 345
        },
        "id": "LmME3m80V-24",
        "outputId": "215af062-6603-4e13-cf31-8823ea0fc0e9"
      },
      "execution_count": null,
      "outputs": [
        {
          "output_type": "error",
          "ename": "AttributeError",
          "evalue": "'NoneType' object has no attribute 'flatten'",
          "traceback": [
            "\u001b[0;31m---------------------------------------------------------------------------\u001b[0m",
            "\u001b[0;31mAttributeError\u001b[0m                            Traceback (most recent call last)",
            "\u001b[0;32m<ipython-input-8-8518643a51a6>\u001b[0m in \u001b[0;36m<cell line: 1>\u001b[0;34m()\u001b[0m\n\u001b[0;32m----> 1\u001b[0;31m \u001b[0mequalized_image_1\u001b[0m \u001b[0;34m=\u001b[0m \u001b[0mequalization\u001b[0m\u001b[0;34m(\u001b[0m\u001b[0mimg1\u001b[0m\u001b[0;34m)\u001b[0m\u001b[0;34m\u001b[0m\u001b[0;34m\u001b[0m\u001b[0m\n\u001b[0m\u001b[1;32m      2\u001b[0m \u001b[0mequalized_image_2\u001b[0m \u001b[0;34m=\u001b[0m \u001b[0mequalization\u001b[0m\u001b[0;34m(\u001b[0m\u001b[0mimg2\u001b[0m\u001b[0;34m)\u001b[0m\u001b[0;34m\u001b[0m\u001b[0;34m\u001b[0m\u001b[0m\n\u001b[1;32m      3\u001b[0m \u001b[0;34m\u001b[0m\u001b[0m\n\u001b[1;32m      4\u001b[0m \u001b[0mmatched_image\u001b[0m \u001b[0;34m=\u001b[0m \u001b[0mhistogram_matching\u001b[0m\u001b[0;34m(\u001b[0m\u001b[0mequalized_image_1\u001b[0m\u001b[0;34m,\u001b[0m\u001b[0mequalized_image_2\u001b[0m\u001b[0;34m)\u001b[0m\u001b[0;34m\u001b[0m\u001b[0;34m\u001b[0m\u001b[0m\n\u001b[1;32m      5\u001b[0m \u001b[0;34m\u001b[0m\u001b[0m\n",
            "\u001b[0;32m<ipython-input-3-63ea1756dbe1>\u001b[0m in \u001b[0;36mequalization\u001b[0;34m(image)\u001b[0m\n\u001b[1;32m      1\u001b[0m \u001b[0;32mdef\u001b[0m \u001b[0mequalization\u001b[0m\u001b[0;34m(\u001b[0m\u001b[0mimage\u001b[0m\u001b[0;34m)\u001b[0m\u001b[0;34m:\u001b[0m\u001b[0;34m\u001b[0m\u001b[0;34m\u001b[0m\u001b[0m\n\u001b[0;32m----> 2\u001b[0;31m     \u001b[0mhistogram\u001b[0m\u001b[0;34m,\u001b[0m \u001b[0m_\u001b[0m \u001b[0;34m=\u001b[0m \u001b[0mnp\u001b[0m\u001b[0;34m.\u001b[0m\u001b[0mhistogram\u001b[0m\u001b[0;34m(\u001b[0m\u001b[0mimage\u001b[0m\u001b[0;34m.\u001b[0m\u001b[0mflatten\u001b[0m\u001b[0;34m(\u001b[0m\u001b[0;34m)\u001b[0m\u001b[0;34m,\u001b[0m \u001b[0;36m256\u001b[0m\u001b[0;34m,\u001b[0m \u001b[0;34m[\u001b[0m\u001b[0;36m0\u001b[0m\u001b[0;34m,\u001b[0m\u001b[0;36m256\u001b[0m\u001b[0;34m]\u001b[0m\u001b[0;34m)\u001b[0m\u001b[0;34m\u001b[0m\u001b[0;34m\u001b[0m\u001b[0m\n\u001b[0m\u001b[1;32m      3\u001b[0m     \u001b[0mcdf\u001b[0m \u001b[0;34m=\u001b[0m \u001b[0mhistogram\u001b[0m\u001b[0;34m.\u001b[0m\u001b[0mcumsum\u001b[0m\u001b[0;34m(\u001b[0m\u001b[0;34m)\u001b[0m\u001b[0;34m\u001b[0m\u001b[0;34m\u001b[0m\u001b[0m\n\u001b[1;32m      4\u001b[0m     \u001b[0mcdf_normalized\u001b[0m \u001b[0;34m=\u001b[0m \u001b[0;34m(\u001b[0m\u001b[0;34m(\u001b[0m\u001b[0mcdf\u001b[0m \u001b[0;34m-\u001b[0m \u001b[0mcdf\u001b[0m\u001b[0;34m.\u001b[0m\u001b[0mmin\u001b[0m\u001b[0;34m(\u001b[0m\u001b[0;34m)\u001b[0m\u001b[0;34m)\u001b[0m \u001b[0;34m*\u001b[0m \u001b[0;36m255\u001b[0m\u001b[0;34m)\u001b[0m \u001b[0;34m/\u001b[0m \u001b[0;34m(\u001b[0m\u001b[0mcdf\u001b[0m\u001b[0;34m.\u001b[0m\u001b[0mmax\u001b[0m\u001b[0;34m(\u001b[0m\u001b[0;34m)\u001b[0m \u001b[0;34m-\u001b[0m \u001b[0mcdf\u001b[0m\u001b[0;34m.\u001b[0m\u001b[0mmin\u001b[0m\u001b[0;34m(\u001b[0m\u001b[0;34m)\u001b[0m\u001b[0;34m)\u001b[0m\u001b[0;34m\u001b[0m\u001b[0;34m\u001b[0m\u001b[0m\n\u001b[1;32m      5\u001b[0m     \u001b[0mequalized_image\u001b[0m \u001b[0;34m=\u001b[0m \u001b[0mcdf_normalized\u001b[0m\u001b[0;34m[\u001b[0m\u001b[0mimage\u001b[0m\u001b[0;34m.\u001b[0m\u001b[0mflatten\u001b[0m\u001b[0;34m(\u001b[0m\u001b[0;34m)\u001b[0m\u001b[0;34m]\u001b[0m\u001b[0;34m\u001b[0m\u001b[0;34m\u001b[0m\u001b[0m\n",
            "\u001b[0;31mAttributeError\u001b[0m: 'NoneType' object has no attribute 'flatten'"
          ]
        }
      ]
    }
  ]
}